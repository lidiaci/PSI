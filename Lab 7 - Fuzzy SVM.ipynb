{
 "cells": [
  {
   "cell_type": "code",
   "execution_count": 1,
   "metadata": {},
   "outputs": [],
   "source": [
    "from scipy.optimize import Bounds, minimize\n",
    "import numpy as np\n",
    "import pandas as pd\n",
    "from sklearn.cluster import KMeans\n",
    "from sklearn.model_selection import train_test_split\n",
    "from sklearn.preprocessing import MinMaxScaler\n",
    "from numpy.linalg import norm\n",
    "from sklearn.metrics import accuracy_score\n",
    "from sklearn.svm import SVC"
   ]
  },
  {
   "cell_type": "markdown",
   "metadata": {},
   "source": [
    "### Implementacja"
   ]
  },
  {
   "cell_type": "code",
   "execution_count": 2,
   "metadata": {},
   "outputs": [],
   "source": [
    "class FuzzySVM():\n",
    "    def __init__(self, kernel='linear', C=1, gamma=1):\n",
    "        self.C = C\n",
    "        self.kernel = kernel\n",
    "        \n",
    "        if kernel == 'linear':\n",
    "            self.kernel_function = np.dot\n",
    "        elif kernel == 'radial':\n",
    "            self.kernel_function = lambda x, y: np.exp(-gamma*np.sum((x-y)**2))\n",
    "  \n",
    "        \n",
    "    def fit(self, x, y, s):\n",
    "        self.train_x = x\n",
    "        self.train_y = y\n",
    "        \n",
    "        initial_alfa = [si*self.C/2 for si in s]\n",
    "        upper_bounds = [si*self.C for si in s]\n",
    "        alfa_bounds = Bounds(np.zeros(len(x)), upper_bounds)\n",
    "        \n",
    "        n_samples = len(x)\n",
    "        kernel_matrix = np.zeros((n_samples, n_samples))\n",
    "        for i in range(n_samples):\n",
    "            for j in range(n_samples):\n",
    "                kernel_matrix[i,j] = self.kernel_function(x[i], x[j])\n",
    "        \n",
    "        res = minimize(FuzzySVM.objective_function, initial_alfa, args=(kernel_matrix, y), bounds=alfa_bounds, method='L-BFGS-B')\n",
    "        \n",
    "        self.support_vectors = x[res.x>1e-4]\n",
    "        self.support_labels = y[res.x>1e-4]\n",
    "        self.lagrange_coef = res.x[res.x > 1e-4]        \n",
    "\n",
    "        n_support_vectors = len(self.support_vectors)\n",
    "        \n",
    "        support_matrix = np.zeros((n_support_vectors, n_support_vectors))\n",
    "        for i in range(n_support_vectors):\n",
    "            for j in range(len(self.support_vectors)):\n",
    "                support_matrix[i,j] = self.kernel_function(self.support_vectors[i], self.support_vectors[j])\n",
    "        \n",
    "\n",
    "        \n",
    "        b = np.mean(self.support_labels - np.sum(self.lagrange_coef[:, None] * self.support_labels[:, None] * support_matrix, axis=0))\n",
    "        self.b = b\n",
    "        \n",
    "        if self.kernel == 'linear':\n",
    "            self.w = np.sum(self.lagrange_coef[:, None] * self.support_labels[:, None] * self.support_vectors, axis=0)\n",
    "        else:\n",
    "            self.w = 0\n",
    "        \n",
    "    def objective_function(lam, kernel_matrix, y):\n",
    "        lam_y = lam * y\n",
    "        quadratic_term = 0.5 * np.dot(lam_y, np.dot(kernel_matrix, lam_y))\n",
    "        return -np.sum(lam) + quadratic_term\n",
    "            \n",
    "    def predict(self, x):\n",
    "        results = []\n",
    "        for sample in x:\n",
    "            result = self.b + np.sum(self.lagrange_coef * self.support_labels * np.array([self.kernel_function(sv, sample) for sv in self.support_vectors]))\n",
    "            results.append(1 if result > 0 else -1)\n",
    "        return np.array(results)  "
   ]
  },
  {
   "cell_type": "markdown",
   "metadata": {},
   "source": [
    "### Przynależność do klas w zależności od odległości od klastra"
   ]
  },
  {
   "cell_type": "code",
   "execution_count": 3,
   "metadata": {},
   "outputs": [],
   "source": [
    "class DistanceBasedMembership():\n",
    "    def __init__(self):\n",
    "        self.kmeans = KMeans(n_clusters=2, random_state=1)\n",
    "        self.scaler = MinMaxScaler(clip=True)\n",
    "        \n",
    "    def fit_transform(self, x):\n",
    "        scaled_data = self.scaler.fit_transform(x)\n",
    "        self.kmeans.fit(scaled_data)\n",
    "        center = self.kmeans.cluster_centers_[0]\n",
    "        \n",
    "        distances = np.array([])\n",
    "        for element in x:\n",
    "            distances = np.append(distances, norm(element-center))\n",
    "            \n",
    "        self.max_dist = max(distances)\n",
    "        distances = distances/self.max_dist\n",
    "        \n",
    "        return scaled_data, distances\n",
    "    \n",
    "    def transform(self, x):\n",
    "        scaled_data = self.scaler.transform(x)\n",
    "        center = self.kmeans.cluster_centers_[0]\n",
    "        \n",
    "        distances = np.array([])\n",
    "        for element in x:\n",
    "            distances = np.append(distances, norm(element-center))\n",
    "            \n",
    "        distances = distances/self.max_dist\n",
    "        \n",
    "        return scaled_data, distances"
   ]
  },
  {
   "cell_type": "markdown",
   "metadata": {},
   "source": [
    "### Porównanie działania Fuzzy SVM ze zwykłym SVM na zbiorze iris z dwoma klasami"
   ]
  },
  {
   "cell_type": "markdown",
   "metadata": {},
   "source": [
    "$\\mu_i = 1=\\frac{d(x_i, center_i)}{max_j d(x_j, center_j)}$"
   ]
  },
  {
   "cell_type": "code",
   "execution_count": 4,
   "metadata": {},
   "outputs": [],
   "source": [
    "df = pd.read_csv(\"hf://datasets/scikit-learn/iris/Iris.csv\")\n",
    "\n",
    "df_dataset = df[(df['Species']=='Iris-versicolor') | (df['Species']=='Iris-virginica')]\n",
    "df_dataset = df_dataset[['SepalLengthCm', 'SepalWidthCm', 'PetalLengthCm', 'PetalWidthCm', 'Species']]\n",
    "df_dataset['Species'] = df_dataset['Species'].map({'Iris-versicolor':1, 'Iris-virginica':-1})\n",
    "x_train, x_test, y_train, y_test = train_test_split(df_dataset[['SepalLengthCm', 'SepalWidthCm', 'PetalLengthCm', 'PetalWidthCm']].to_numpy(), df_dataset['Species'].to_numpy(), random_state=1)"
   ]
  },
  {
   "cell_type": "code",
   "execution_count": 5,
   "metadata": {},
   "outputs": [],
   "source": [
    "membership_fun = DistanceBasedMembership()\n",
    "scaled_train, membership_train = membership_fun.fit_transform(x_train)\n",
    "scaled_test, membership_test = membership_fun.transform(x_test)"
   ]
  },
  {
   "cell_type": "markdown",
   "metadata": {},
   "source": [
    "### Fuzzy SVM"
   ]
  },
  {
   "cell_type": "code",
   "execution_count": 6,
   "metadata": {},
   "outputs": [
    {
     "data": {
      "text/plain": [
       "0.92"
      ]
     },
     "execution_count": 6,
     "metadata": {},
     "output_type": "execute_result"
    }
   ],
   "source": [
    "fsvm = FuzzySVM(C=1)\n",
    "fsvm.fit(scaled_train, y_train, membership_train)\n",
    "predictions = fsvm.predict(scaled_test)\n",
    "accuracy_score(y_test, predictions)"
   ]
  },
  {
   "cell_type": "markdown",
   "metadata": {},
   "source": [
    "### Zwykły SVM z sklearn"
   ]
  },
  {
   "cell_type": "code",
   "execution_count": 7,
   "metadata": {},
   "outputs": [
    {
     "data": {
      "text/html": [
       "<style>#sk-container-id-1 {color: black;background-color: white;}#sk-container-id-1 pre{padding: 0;}#sk-container-id-1 div.sk-toggleable {background-color: white;}#sk-container-id-1 label.sk-toggleable__label {cursor: pointer;display: block;width: 100%;margin-bottom: 0;padding: 0.3em;box-sizing: border-box;text-align: center;}#sk-container-id-1 label.sk-toggleable__label-arrow:before {content: \"▸\";float: left;margin-right: 0.25em;color: #696969;}#sk-container-id-1 label.sk-toggleable__label-arrow:hover:before {color: black;}#sk-container-id-1 div.sk-estimator:hover label.sk-toggleable__label-arrow:before {color: black;}#sk-container-id-1 div.sk-toggleable__content {max-height: 0;max-width: 0;overflow: hidden;text-align: left;background-color: #f0f8ff;}#sk-container-id-1 div.sk-toggleable__content pre {margin: 0.2em;color: black;border-radius: 0.25em;background-color: #f0f8ff;}#sk-container-id-1 input.sk-toggleable__control:checked~div.sk-toggleable__content {max-height: 200px;max-width: 100%;overflow: auto;}#sk-container-id-1 input.sk-toggleable__control:checked~label.sk-toggleable__label-arrow:before {content: \"▾\";}#sk-container-id-1 div.sk-estimator input.sk-toggleable__control:checked~label.sk-toggleable__label {background-color: #d4ebff;}#sk-container-id-1 div.sk-label input.sk-toggleable__control:checked~label.sk-toggleable__label {background-color: #d4ebff;}#sk-container-id-1 input.sk-hidden--visually {border: 0;clip: rect(1px 1px 1px 1px);clip: rect(1px, 1px, 1px, 1px);height: 1px;margin: -1px;overflow: hidden;padding: 0;position: absolute;width: 1px;}#sk-container-id-1 div.sk-estimator {font-family: monospace;background-color: #f0f8ff;border: 1px dotted black;border-radius: 0.25em;box-sizing: border-box;margin-bottom: 0.5em;}#sk-container-id-1 div.sk-estimator:hover {background-color: #d4ebff;}#sk-container-id-1 div.sk-parallel-item::after {content: \"\";width: 100%;border-bottom: 1px solid gray;flex-grow: 1;}#sk-container-id-1 div.sk-label:hover label.sk-toggleable__label {background-color: #d4ebff;}#sk-container-id-1 div.sk-serial::before {content: \"\";position: absolute;border-left: 1px solid gray;box-sizing: border-box;top: 0;bottom: 0;left: 50%;z-index: 0;}#sk-container-id-1 div.sk-serial {display: flex;flex-direction: column;align-items: center;background-color: white;padding-right: 0.2em;padding-left: 0.2em;position: relative;}#sk-container-id-1 div.sk-item {position: relative;z-index: 1;}#sk-container-id-1 div.sk-parallel {display: flex;align-items: stretch;justify-content: center;background-color: white;position: relative;}#sk-container-id-1 div.sk-item::before, #sk-container-id-1 div.sk-parallel-item::before {content: \"\";position: absolute;border-left: 1px solid gray;box-sizing: border-box;top: 0;bottom: 0;left: 50%;z-index: -1;}#sk-container-id-1 div.sk-parallel-item {display: flex;flex-direction: column;z-index: 1;position: relative;background-color: white;}#sk-container-id-1 div.sk-parallel-item:first-child::after {align-self: flex-end;width: 50%;}#sk-container-id-1 div.sk-parallel-item:last-child::after {align-self: flex-start;width: 50%;}#sk-container-id-1 div.sk-parallel-item:only-child::after {width: 0;}#sk-container-id-1 div.sk-dashed-wrapped {border: 1px dashed gray;margin: 0 0.4em 0.5em 0.4em;box-sizing: border-box;padding-bottom: 0.4em;background-color: white;}#sk-container-id-1 div.sk-label label {font-family: monospace;font-weight: bold;display: inline-block;line-height: 1.2em;}#sk-container-id-1 div.sk-label-container {text-align: center;}#sk-container-id-1 div.sk-container {/* jupyter's `normalize.less` sets `[hidden] { display: none; }` but bootstrap.min.css set `[hidden] { display: none !important; }` so we also need the `!important` here to be able to override the default hidden behavior on the sphinx rendered scikit-learn.org. See: https://github.com/scikit-learn/scikit-learn/issues/21755 */display: inline-block !important;position: relative;}#sk-container-id-1 div.sk-text-repr-fallback {display: none;}</style><div id=\"sk-container-id-1\" class=\"sk-top-container\"><div class=\"sk-text-repr-fallback\"><pre>SVC(C=1, kernel=&#x27;linear&#x27;)</pre><b>In a Jupyter environment, please rerun this cell to show the HTML representation or trust the notebook. <br />On GitHub, the HTML representation is unable to render, please try loading this page with nbviewer.org.</b></div><div class=\"sk-container\" hidden><div class=\"sk-item\"><div class=\"sk-estimator sk-toggleable\"><input class=\"sk-toggleable__control sk-hidden--visually\" id=\"sk-estimator-id-1\" type=\"checkbox\" checked><label for=\"sk-estimator-id-1\" class=\"sk-toggleable__label sk-toggleable__label-arrow\">SVC</label><div class=\"sk-toggleable__content\"><pre>SVC(C=1, kernel=&#x27;linear&#x27;)</pre></div></div></div></div></div>"
      ],
      "text/plain": [
       "SVC(C=1, kernel='linear')"
      ]
     },
     "execution_count": 7,
     "metadata": {},
     "output_type": "execute_result"
    }
   ],
   "source": [
    "svm = SVC(kernel='linear', C=1)\n",
    "svm.fit(scaled_train, y_train)"
   ]
  },
  {
   "cell_type": "code",
   "execution_count": 8,
   "metadata": {},
   "outputs": [
    {
     "data": {
      "text/plain": [
       "0.88"
      ]
     },
     "execution_count": 8,
     "metadata": {},
     "output_type": "execute_result"
    }
   ],
   "source": [
    "preds = svm.predict(scaled_test)\n",
    "accuracy_score(y_test, preds)"
   ]
  },
  {
   "cell_type": "markdown",
   "metadata": {},
   "source": [
    "### Fuzzy SVM z radial kernel"
   ]
  },
  {
   "cell_type": "code",
   "execution_count": 11,
   "metadata": {},
   "outputs": [
    {
     "data": {
      "text/plain": [
       "0.88"
      ]
     },
     "execution_count": 11,
     "metadata": {},
     "output_type": "execute_result"
    }
   ],
   "source": [
    "fsvm = FuzzySVM(C=1, kernel='radial')\n",
    "fsvm.fit(scaled_train, y_train, membership_train)\n",
    "predictions = fsvm.predict(scaled_test)\n",
    "accuracy_score(y_test, predictions)"
   ]
  },
  {
   "cell_type": "markdown",
   "metadata": {},
   "source": [
    "### Zwykły SVM z radial kernel"
   ]
  },
  {
   "cell_type": "code",
   "execution_count": 12,
   "metadata": {},
   "outputs": [
    {
     "data": {
      "text/plain": [
       "0.84"
      ]
     },
     "execution_count": 12,
     "metadata": {},
     "output_type": "execute_result"
    }
   ],
   "source": [
    "svm = SVC(kernel='rbf', C=1)\n",
    "svm.fit(scaled_train, y_train)\n",
    "preds = svm.predict(scaled_test)\n",
    "accuracy_score(y_test, preds)"
   ]
  }
 ],
 "metadata": {
  "kernelspec": {
   "display_name": "Python 3",
   "language": "python",
   "name": "python3"
  },
  "language_info": {
   "codemirror_mode": {
    "name": "ipython",
    "version": 3
   },
   "file_extension": ".py",
   "mimetype": "text/x-python",
   "name": "python",
   "nbconvert_exporter": "python",
   "pygments_lexer": "ipython3",
   "version": "3.10.4"
  }
 },
 "nbformat": 4,
 "nbformat_minor": 2
}
