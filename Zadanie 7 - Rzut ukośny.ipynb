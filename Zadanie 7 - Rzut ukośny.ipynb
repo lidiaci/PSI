{
 "cells": [
  {
   "cell_type": "markdown",
   "metadata": {},
   "source": [
    "# Zadanie 7 - rzut ukośny"
   ]
  },
  {
   "cell_type": "markdown",
   "metadata": {},
   "source": [
    "Przy pomocy biblioteki scikit-fuzzy zbuduj model rozmyty, który na podstawie danych wejściowych będzie szacował wartość prędkości początkowej ciała w rzucie ukośnym, aby osiągnąć dany zasięg rzutu.\n",
    "\n",
    "Dane wejściowe:\n",
    "\n",
    "        - zadany zasięg d\n",
    "\n",
    "        - kąt rzutu a\n",
    "\n",
    "         - współczynnik oporu powietrza k\n",
    "\n",
    "        - masa ciała m\n",
    "\n",
    "Porównaj działanie modelu z wynikami otrzymanymi ze wzoru.\n",
    "\n",
    "a, d -> https://www.naukowiec.org/wzory/fizyka/zasieg-rzutu-ukosnego_98.html\n",
    "\n",
    "a, d, k, m -> http://www.ftj.agh.edu.pl/~pytlik/Info/rzut_z_oporem.pdf"
   ]
  },
  {
   "cell_type": "code",
   "execution_count": 1,
   "metadata": {},
   "outputs": [],
   "source": [
    "import numpy as np\n",
    "import skfuzzy as fuzz\n",
    "from skfuzzy import control as ctrl\n",
    "from sklearn.model_selection import RandomizedSearchCV\n",
    "import matplotlib.pyplot as plt\n",
    "import pandas as pd\n",
    "import itertools\n",
    "import math"
   ]
  },
  {
   "cell_type": "markdown",
   "metadata": {},
   "source": [
    "## Budowanie systemu dla dwóch zmiennych - a, d"
   ]
  },
  {
   "cell_type": "code",
   "execution_count": 2,
   "metadata": {},
   "outputs": [],
   "source": [
    "angle = ctrl.Antecedent(np.linspace(0.0, 1.47, 150), 'angle')\n",
    "distance = ctrl.Antecedent(np.arange(0, 100, 1), 'distance')\n",
    "\n",
    "initial_velocity = ctrl.Consequent(np.arange(0, 70, 1), 'initial_velocity')\n",
    "\n",
    "angle['bardzo maly'] = fuzz.trapmf(angle.universe, [0, 0, 0.1, 0.25])\n",
    "angle['maly'] = fuzz.trimf(angle.universe, [0.1, 0.25, 0.3])\n",
    "angle['sredni'] = fuzz.trapmf(angle.universe, [0.25, 0.3, 1.27, 1.32])\n",
    "angle['duzy'] = fuzz.trimf(angle.universe, [1.27, 1.32, 1.37])\n",
    "angle['bardzo duzy'] = fuzz.trimf(angle.universe, [1.32, 1.47, 1.47])\n",
    "\n",
    "distance['bardzo maly'] = fuzz.trimf(distance.universe, [1, 2.5, 4+2])\n",
    "distance['maly'] = fuzz.trimf(distance.universe, [4, 10, 16+3])\n",
    "distance['sredni'] = fuzz.trimf(distance.universe, [16, (16+36)/2, 36+4])\n",
    "distance['duzy'] = fuzz.trimf(distance.universe, [36, (36+64)/2, 64+5])\n",
    "distance['bardzo duzy'] = fuzz.trimf(distance.universe, [64, (100+64)/2, 100])\n",
    "\n",
    "initial_velocity['bardzo maly'] = fuzz.trapmf(initial_velocity.universe, [0, 0, 7, 14])\n",
    "initial_velocity['maly'] = fuzz.trimf(initial_velocity.universe, [10, 20, 30])\n",
    "initial_velocity['sredni'] = fuzz.trimf(initial_velocity.universe, [20, 30, 40])\n",
    "initial_velocity['duzy'] = fuzz.trimf(initial_velocity.universe, [30, 40, 50])\n",
    "initial_velocity['bardzo duzy'] = fuzz.trimf(initial_velocity.universe, [40, 52, 70])\n",
    "\n",
    "initial_velocity_ctrl = ctrl.ControlSystem([ctrl.Rule(distance['bardzo maly'], initial_velocity['bardzo maly']),\n",
    "                                            ctrl.Rule((angle['bardzo maly'] | angle['bardzo duzy']) & distance['maly'], initial_velocity['maly']),\n",
    "                                            ctrl.Rule((angle['bardzo maly'] | angle['bardzo duzy']) & distance['sredni'], initial_velocity['sredni']),\n",
    "                                            ctrl.Rule((angle['bardzo maly'] | angle['bardzo duzy']) & distance['duzy'], initial_velocity['duzy']),\n",
    "                                            ctrl.Rule((angle['bardzo maly'] | angle['bardzo duzy']) & distance['bardzo duzy'], initial_velocity['bardzo duzy']),\n",
    "                                            ctrl.Rule((angle['maly'] | angle['duzy']) & distance['maly'], initial_velocity['bardzo maly']),\n",
    "                                            ctrl.Rule((angle['maly'] | angle['duzy']) & distance['sredni'], initial_velocity['maly']),\n",
    "                                            ctrl.Rule((angle['maly'] | angle['duzy']) & distance['duzy'], initial_velocity['sredni']),\n",
    "                                            ctrl.Rule((angle['maly'] | angle['duzy']) & distance['bardzo duzy'], initial_velocity['duzy']),\n",
    "                                            ctrl.Rule(angle['sredni'] & distance['maly'], initial_velocity['bardzo maly']),\n",
    "                                            ctrl.Rule(angle['sredni'] & distance['sredni'], initial_velocity['maly']),\n",
    "                                            ctrl.Rule(angle['sredni'] & distance['duzy'], initial_velocity['maly']),\n",
    "                                            ctrl.Rule(angle['sredni'] & distance['bardzo duzy'], initial_velocity['sredni'])])\n",
    "\n",
    "initial_velocity_sim = ctrl.ControlSystemSimulation(initial_velocity_ctrl)"
   ]
  },
  {
   "cell_type": "code",
   "execution_count": 3,
   "metadata": {},
   "outputs": [
    {
     "name": "stderr",
     "output_type": "stream",
     "text": [
      "c:\\Users\\Lidia\\AppData\\Local\\Programs\\Python\\Python310\\lib\\site-packages\\skfuzzy\\control\\fuzzyvariable.py:122: UserWarning: Matplotlib is currently using module://matplotlib_inline.backend_inline, which is a non-GUI backend, so cannot show the figure.\n",
      "  fig.show()\n"
     ]
    },
    {
     "data": {
      "image/png": "[encoded data removed]",
      "text/plain": [
       "<Figure size 432x288 with 1 Axes>"
      ]
     },
     "metadata": {
      "needs_background": "light"
     },
     "output_type": "display_data"
    }
   ],
   "source": [
    "initial_velocity.view()"
   ]
  },
  {
   "cell_type": "markdown",
   "metadata": {},
   "source": [
    "Generowanie zbioru danych do sprawdzenia modelu"
   ]
  },
  {
   "cell_type": "code",
   "execution_count": 4,
   "metadata": {},
   "outputs": [],
   "source": [
    "rd = range(5, 100)\n",
    "ra = np.linspace(0.1, 1.47, 100)\n",
    "\n",
    "permutations = list(itertools.product(rd, ra))\n",
    "\n",
    "df = pd.DataFrame(permutations, columns=['d', 'a'])"
   ]
  },
  {
   "cell_type": "code",
   "execution_count": 11,
   "metadata": {},
   "outputs": [],
   "source": [
    "def first_velo(d, a):\n",
    "    return math.sqrt((d*9.8)/math.sin(2*a))\n",
    "\n",
    "df['v0'] = df.apply(lambda row: first_velo(row['d'], row['a']), axis=1)"
   ]
  },
  {
   "cell_type": "code",
   "execution_count": 12,
   "metadata": {},
   "outputs": [
    {
     "name": "stdout",
     "output_type": "stream",
     "text": [
      "3.2695191333689233\n",
      "max 39.389708275494556\n",
      "min 5.592592592592592\n"
     ]
    }
   ],
   "source": [
    "mse = 0\n",
    "minx = 100\n",
    "maxx = -100\n",
    "\n",
    "for index, row in df.iterrows():\n",
    "    initial_velocity_sim.input['angle'] = row['a']\n",
    "    initial_velocity_sim.input['distance'] = row['d']\n",
    "    initial_velocity_sim.compute()\n",
    "    if initial_velocity_sim.output['initial_velocity'] < minx:\n",
    "        minx = initial_velocity_sim.output['initial_velocity']\n",
    "    if initial_velocity_sim.output['initial_velocity'] > maxx:\n",
    "        maxx = initial_velocity_sim.output['initial_velocity']\n",
    "    mse = mse + np.abs(initial_velocity_sim.output['initial_velocity']-row['v0'])\n",
    "    initial_velocity_sim.reset()\n",
    "    \n",
    "print(mse/len(df))\n",
    "print('max', maxx)\n",
    "print('min', minx)"
   ]
  },
  {
   "cell_type": "markdown",
   "metadata": {},
   "source": [
    "## Budowanie systemu dla czterech zmiennych - a, d, c, m"
   ]
  },
  {
   "cell_type": "code",
   "execution_count": 6,
   "metadata": {},
   "outputs": [],
   "source": [
    "from scipy.optimize import fsolve\n",
    "\n",
    "def equation(t, a, d, c, m):\n",
    "    g = 9.81\n",
    "    b = c/m\n",
    "    return np.sin(a)/np.cos(a)*d+g/b**2*(1-np.e**(-b*t))-g*t/b"
   ]
  },
  {
   "cell_type": "code",
   "execution_count": 7,
   "metadata": {},
   "outputs": [],
   "source": [
    "def second_velo(a, d, c, m, t):\n",
    "    b = c/m\n",
    "    return b*d/(1-np.e**(-b*t))/np.sin(a)"
   ]
  },
  {
   "cell_type": "code",
   "execution_count": 8,
   "metadata": {},
   "outputs": [],
   "source": [
    "def calculate_velo(a, d, c, m):\n",
    "    solution = fsolve(equation, 10, (a, d, c, m))\n",
    "    return second_velo(a, d, c, m, *solution)"
   ]
  },
  {
   "cell_type": "code",
   "execution_count": 9,
   "metadata": {},
   "outputs": [],
   "source": [
    "rd = range(5, 51, 2)\n",
    "ra = np.linspace(0.2, 1.37, 50)\n",
    "rc = np.linspace(0.1, 1, 10)\n",
    "rm = range(1,51)\n",
    "\n",
    "permutations = list(itertools.product(rd, ra, rc, rm))\n",
    "\n",
    "df = pd.DataFrame(permutations, columns=['d', 'a', 'c', 'm'])"
   ]
  },
  {
   "cell_type": "code",
   "execution_count": 12,
   "metadata": {},
   "outputs": [],
   "source": [
    "def v(a, d, c, m):\n",
    "    return calculate_velo(a, d, c, m)\n",
    "\n",
    "df['v0'] = df.apply(lambda row: v(row['a'], row['d'], row['c'], row['m']), axis=1)"
   ]
  },
  {
   "cell_type": "markdown",
   "metadata": {},
   "source": [
    "Budowanie systemu"
   ]
  },
  {
   "cell_type": "code",
   "execution_count": 13,
   "metadata": {},
   "outputs": [],
   "source": [
    "#inputs\n",
    "distance = ctrl.Antecedent(np.arange(5, 51, 1), 'distance')\n",
    "angle = ctrl.Antecedent(np.linspace(0.2, 1.37, 100), 'angle')\n",
    "resistance = ctrl.Antecedent(np.linspace(0.1, 1, 30), 'resistance')\n",
    "mass = ctrl.Antecedent(np.arange(0, 51, 1), 'mass')\n",
    "#output\n",
    "velocity = ctrl.Consequent(np.arange(0, 150, 1), 'velocity')"
   ]
  },
  {
   "cell_type": "code",
   "execution_count": 14,
   "metadata": {},
   "outputs": [],
   "source": [
    "#distance and angle from the previous model\n",
    "angle['bardzo maly'] = fuzz.trimf(angle.universe, [0.2, 0.2, 0.4])\n",
    "angle['maly'] = fuzz.trimf(angle.universe, [0.2, 0.4, 0.6])\n",
    "angle['sredni'] = fuzz.trapmf(angle.universe, [0.4, 0.6, 0.97, 1.17])\n",
    "angle['duzy'] = fuzz.trimf(angle.universe, [0.97, 1.17, 1.37])\n",
    "angle['bardzo duzy'] = fuzz.trimf(angle.universe, [1.17, 1.37, 1.37])\n",
    "\n",
    "distance['bardzo maly'] = fuzz.trimf(distance.universe, [5, 5, 15])\n",
    "distance['maly'] = fuzz.trimf(distance.universe, [5, 15, 25])\n",
    "distance['sredni'] = fuzz.trimf(distance.universe, [15, 25, 35])\n",
    "distance['duzy'] = fuzz.trimf(distance.universe, [25, 35, 45])\n",
    "distance['bardzo duzy'] = fuzz.trapmf(distance.universe, [35, 45, 50, 50])\n",
    "\n",
    "resistance['maly'] = fuzz.membership.trimf(resistance.universe,[0,0,0.5])\n",
    "resistance['sredni'] = fuzz.membership.trimf(resistance.universe,[0,0.5,1])\n",
    "resistance['duzy'] = fuzz.membership.trimf(resistance.universe,[0.5,1,1])\n",
    "\n",
    "mass['maly'] = fuzz.trimf(mass.universe, [0, 0, 20])\n",
    "mass['sredni'] = fuzz.trapmf(mass.universe, [0, 20, 30, 50])\n",
    "mass['duzy'] = fuzz.trimf(mass.universe, [30, 50, 50])\n",
    "\n",
    "velocity['bardzo maly'] = fuzz.trapmf(velocity.universe, [0, 0, 10, 20])\n",
    "velocity['maly'] = fuzz.trimf(velocity.universe, [10, 20, 50])\n",
    "velocity['sredni'] = fuzz.trimf(velocity.universe, [20, 50, 70])\n",
    "velocity['duzy'] = fuzz.trimf(velocity.universe, [50, 70, 100])\n",
    "velocity['bardzo duzy'] = fuzz.trapmf(velocity.universe, [70, 100, 150, 150]) "
   ]
  },
  {
   "cell_type": "code",
   "execution_count": 15,
   "metadata": {},
   "outputs": [],
   "source": [
    "model2 = ctrl.ControlSystem([ctrl.Rule(angle['bardzo maly'] & (distance['bardzo duzy'] | distance['duzy']) & mass['duzy'], velocity['bardzo duzy']),\n",
    "                             ctrl.Rule(angle['maly'] & (distance['bardzo duzy'] | distance['duzy']) & mass['duzy'], velocity['sredni']),\n",
    "                             ctrl.Rule((angle['sredni'] | angle['duzy'] | angle['bardzo duzy']) & mass['duzy'], velocity['maly']),\n",
    "                             ctrl.Rule(angle['duzy'] & (distance['bardzo duzy'] | distance['duzy']) & mass['duzy'], velocity['bardzo maly']),\n",
    "                             ctrl.Rule(angle['bardzo maly'] & distance['bardzo maly'] & (resistance['maly'] | resistance['sredni'] | resistance['duzy']) & (mass['maly'] | mass['sredni'] | mass['duzy']), velocity['sredni']),\n",
    "                             ctrl.Rule(angle['maly'] & distance['bardzo maly'] & (resistance['maly'] | resistance['sredni'] | resistance['duzy']) & (mass['maly'] | mass['sredni'] | mass['duzy']), velocity['maly']),\n",
    "                             ctrl.Rule((angle['sredni'] | angle['duzy'] | angle['bardzo duzy']) & mass['maly'], velocity['bardzo maly']),\n",
    "                             ctrl.Rule(angle['sredni'] & distance['bardzo maly'] & mass['sredni'] & (resistance['maly'] | resistance['sredni'] | resistance['duzy']), velocity['bardzo maly']),\n",
    "                             ctrl.Rule(angle['bardzo duzy'] & distance['bardzo maly'] & mass['sredni'] & (resistance['maly'] | resistance['sredni'] | resistance['duzy']), velocity['bardzo maly']),\n",
    "                             ctrl.Rule(angle['bardzo maly'] & (distance['maly'] | distance['sredni']) & (resistance['maly'] | resistance['sredni'] | resistance['duzy']) & (mass['maly'] | mass['sredni'] | mass['duzy']), velocity['bardzo duzy']),\n",
    "                             ctrl.Rule(angle['maly'] & distance['maly'] & mass['sredni'] & (resistance['maly'] | resistance['sredni'] | resistance['duzy']), velocity['maly']),\n",
    "                             ctrl.Rule((angle['sredni'] | angle['duzy'] | angle['bardzo duzy']) & distance['maly'] & mass['sredni'] & (resistance['maly'] | resistance['sredni'] | resistance['duzy']), velocity['bardzo maly']),\n",
    "                             ctrl.Rule(angle['maly'] & distance['maly'] & mass['sredni'], velocity['sredni']),\n",
    "                             ctrl.Rule(angle['maly'] & (distance['sredni'] | distance['duzy']) & (resistance['maly'] | resistance['sredni'] | resistance['duzy']) & mass['sredni'], velocity['sredni']),\n",
    "                             ctrl.Rule(angle['sredni'] & (distance['sredni'] | distance['duzy']) & (resistance['maly'] | resistance['sredni'] | resistance['duzy']) & mass['sredni'], velocity['maly']),\n",
    "                             ctrl.Rule((angle['duzy'] | angle['bardzo duzy']) & (distance['sredni'] | distance['duzy'] | distance['bardzo duzy']) & (resistance['maly'] | resistance['sredni'] | resistance['duzy']) & (mass['sredni'] | mass['duzy']), velocity['bardzo maly']),\n",
    "                             ctrl.Rule(angle['bardzo maly'] & distance['duzy'] & (resistance['maly'] | resistance['sredni'] | resistance['duzy']), velocity['bardzo duzy']),\n",
    "                             ctrl.Rule(angle['bardzo maly'] & distance['bardzo duzy'], velocity['bardzo duzy']),\n",
    "                             ctrl.Rule(angle['maly'] & distance['bardzo duzy'], velocity['sredni']),\n",
    "                             ctrl.Rule(angle['sredni'] & distance['bardzo duzy'], velocity['maly'])\n",
    "                             ])\n",
    "\n",
    "\n",
    "initial_velocity_sim2 = ctrl.ControlSystemSimulation(model2)"
   ]
  },
  {
   "cell_type": "code",
   "execution_count": 16,
   "metadata": {},
   "outputs": [
    {
     "name": "stdout",
     "output_type": "stream",
     "text": [
      "99.29 %\n",
      "8.770724860370022\n"
     ]
    }
   ],
   "source": [
    "blad = 0\n",
    "i = 0\n",
    "\n",
    "for index, row in df.iterrows():\n",
    "    initial_velocity_sim2.input['angle'] = row['a']\n",
    "    initial_velocity_sim2.input['distance'] = row['d']\n",
    "    initial_velocity_sim2.input['mass'] = row['m']\n",
    "    initial_velocity_sim2.input['resistance'] = row['c']\n",
    "    initial_velocity_sim2.compute()\n",
    "\n",
    "    calculated = initial_velocity_sim2.output['velocity']\n",
    "    diff = np.abs(calculated-row['v0'])\n",
    "    \n",
    "    if row['v0']<150:\n",
    "        i = i + 1\n",
    "        blad = blad + diff\n",
    "    \n",
    "    initial_velocity_sim2.reset()\n",
    "\n",
    "print(np.round(i/len(df)*100, 2), '%')\n",
    "print(blad/i)"
   ]
  }
 ],
 "metadata": {
  "kernelspec": {
   "display_name": "Python 3",
   "language": "python",
   "name": "python3"
  },
  "language_info": {
   "codemirror_mode": {
    "name": "ipython",
    "version": 3
   },
   "file_extension": ".py",
   "mimetype": "text/x-python",
   "name": "python",
   "nbconvert_exporter": "python",
   "pygments_lexer": "ipython3",
   "version": "3.10.4"
  }
 },
 "nbformat": 4,
 "nbformat_minor": 2
}
