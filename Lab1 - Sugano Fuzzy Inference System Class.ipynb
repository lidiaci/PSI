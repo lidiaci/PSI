{
 "cells": [
  {
   "cell_type": "markdown",
   "metadata": {},
   "source": [
    "# MSI - zadanie 1"
   ]
  },
  {
   "cell_type": "markdown",
   "metadata": {},
   "source": [
    "Membership functions class"
   ]
  },
  {
   "cell_type": "code",
   "execution_count": 1,
   "metadata": {},
   "outputs": [],
   "source": [
    "import numpy as np"
   ]
  },
  {
   "cell_type": "code",
   "execution_count": null,
   "metadata": {},
   "outputs": [],
   "source": [
    "class TriangularMembershipFunction():\n",
    "    def __init__(self, left, peak, right):\n",
    "        if left < peak and peak < right:\n",
    "            self.left = left\n",
    "            self.peak = peak\n",
    "            self.right = right\n",
    "        else:\n",
    "            raise Exception(\"Left point must be less than peak and peak must be less than right point!\")\n",
    "        self.variable_name = None\n",
    "        \n",
    "    def calculate(self, x):\n",
    "        if x <= self.left or x > self.right:\n",
    "            return 0\n",
    "        elif x > self.left and x <= self.peak:\n",
    "            return (x-self.left)/(self.peak-self.left)\n",
    "        elif self.peak < x < self.right:\n",
    "            return (self.right - x) / (self.right - self.peak)\n",
    "        elif x == self.right:\n",
    "            return 1\n",
    "        \n",
    "class TrapezoidalMembershipFunction():\n",
    "    def __init__(self, left_point, left_upper, right_upper, right_point):\n",
    "        if left_point > left_upper or left_upper > right_upper or right_upper > right_point:\n",
    "            raise Exception(\"Wrong parameters for the function!\")\n",
    "        \n",
    "        self.left_point = left_point\n",
    "        self.left_upper = left_upper\n",
    "        self.right_upper = right_upper\n",
    "        self.rigth_point = right_point\n",
    "        \n",
    "    def calculate(self, x):\n",
    "        if x <= self.left_point or x >= self.rigth_point:\n",
    "            return 0\n",
    "        elif self.left_point <= x and x <= self.left_upper:\n",
    "            return (x-self.left_point)/(self.left_upper-self.left_point)\n",
    "        elif self.left_upper < x and x <= self.right_upper:\n",
    "            return 1\n",
    "        else:\n",
    "            return (self.rigth_point-x)/(self.rigth_point-self.right_upper)"
   ]
  },
  {
   "cell_type": "markdown",
   "metadata": {},
   "source": [
    "Antecendent class"
   ]
  },
  {
   "cell_type": "code",
   "execution_count": 13,
   "metadata": {},
   "outputs": [],
   "source": [
    "class Antecedent():\n",
    "    def __init__(self, membership_funcs, name, range):\n",
    "        self.name = name\n",
    "        self.range = range\n",
    "        for degree in membership_funcs:\n",
    "            membership_funcs[degree].variable_name = name\n",
    "        self.membership_funcs = membership_funcs"
   ]
  },
  {
   "cell_type": "code",
   "execution_count": 14,
   "metadata": {},
   "outputs": [],
   "source": [
    "quality = Antecedent({\"poor\" : TriangularMembershipFunction(0, 0.0001, 5), \"average\" : TriangularMembershipFunction(0, 5, 10), \"good\" : TriangularMembershipFunction(5, 9.9999, 10)}, \"quality\", np.linspace(0, 10, 100))\n",
    "service = Antecedent({\"poor\" : TriangularMembershipFunction(0, 0.0001, 5), \"average\" : TriangularMembershipFunction(0, 5, 10), \"good\" : TriangularMembershipFunction(5, 9.9999, 10)}, \"service\", np.linspace(0, 10, 100))"
   ]
  },
  {
   "cell_type": "markdown",
   "metadata": {},
   "source": [
    "Rule class"
   ]
  },
  {
   "cell_type": "code",
   "execution_count": 15,
   "metadata": {},
   "outputs": [],
   "source": [
    "class orRule():\n",
    "    def __init__(self, antecedent, value_function):\n",
    "        self.antecedent = antecedent\n",
    "        self.value_function = value_function\n",
    "        \n",
    "    def calculate_weight(self, dict_of_inputs):\n",
    "        values = []\n",
    "        for func in self.antecedent:\n",
    "            input_value = dict_of_inputs[func.variable_name]\n",
    "            values.append(func.calculate(input_value))\n",
    "        return max(values)\n",
    "    \n",
    "class andRule():\n",
    "    def __init__(self, antecedent, value_function):\n",
    "        self.antecedent = antecedent\n",
    "        self.value_function = value_function\n",
    "        \n",
    "    def calculate_weight(self, dict_of_inputs):\n",
    "        values = []\n",
    "        for func in self.antecedent:\n",
    "            input_value = dict_of_inputs[func.variable_name]\n",
    "            values.append(func.calculate(input_value))\n",
    "            \n",
    "        return min(values)"
   ]
  },
  {
   "cell_type": "code",
   "execution_count": 23,
   "metadata": {},
   "outputs": [],
   "source": [
    "rule1 = orRule([quality.membership_funcs[\"poor\"], service.membership_funcs[\"poor\"]], 0)\n",
    "rule2 = andRule([service.membership_funcs[\"average\"]], 13)\n",
    "rule3 = orRule([quality.membership_funcs[\"good\"], service.membership_funcs[\"good\"]], 15)\n",
    "\n",
    "list_of_rules = [rule1, rule2, rule3]"
   ]
  },
  {
   "cell_type": "code",
   "execution_count": 24,
   "metadata": {},
   "outputs": [],
   "source": [
    "class SugenoInferenceSystem():\n",
    "    def __init__(self, list_of_rules):\n",
    "        self.list_of_rules = list_of_rules\n",
    "        self.inputs = {}\n",
    "        \n",
    "    def calculate_rule_strengths(self):\n",
    "        weights = {}\n",
    "        for rule in self.list_of_rules:\n",
    "            w = rule.calculate_weight(self.inputs)\n",
    "            weights[w] = rule.value_function\n",
    "        self.weights = weights\n",
    "        return weights\n",
    "\n",
    "    def defuzzify_output(self):\n",
    "        output_top = 0\n",
    "        output_down = 0\n",
    "        for weight in self.weights:\n",
    "            output_top = output_top + weight*self.weights[weight]\n",
    "            output_down = output_down + weight\n",
    "        if output_down == 0:\n",
    "            return 0\n",
    "        return output_top/output_down\n",
    "    \n",
    "    def calculate(self):\n",
    "        self.calculate_rule_strengths()\n",
    "        return self.defuzzify_output()\n",
    "    "
   ]
  },
  {
   "cell_type": "code",
   "execution_count": 25,
   "metadata": {},
   "outputs": [
    {
     "data": {
      "text/plain": [
       "13.0"
      ]
     },
     "execution_count": 25,
     "metadata": {},
     "output_type": "execute_result"
    }
   ],
   "source": [
    "system = SugenoInferenceSystem(list_of_rules)\n",
    "\n",
    "system.inputs[\"quality\"] = 2\n",
    "system.inputs[\"service\"] = 5\n",
    "\n",
    "system.calculate()"
   ]
  },
  {
   "cell_type": "code",
   "execution_count": 26,
   "metadata": {},
   "outputs": [
    {
     "data": {
      "text/plain": [
       "0"
      ]
     },
     "execution_count": 26,
     "metadata": {},
     "output_type": "execute_result"
    }
   ],
   "source": [
    "system = SugenoInferenceSystem(list_of_rules)\n",
    "\n",
    "system.inputs[\"quality\"] = 0\n",
    "system.inputs[\"service\"] = 0\n",
    "\n",
    "system.calculate()"
   ]
  },
  {
   "cell_type": "code",
   "execution_count": 27,
   "metadata": {},
   "outputs": [
    {
     "data": {
      "text/plain": [
       "15.0"
      ]
     },
     "execution_count": 27,
     "metadata": {},
     "output_type": "execute_result"
    }
   ],
   "source": [
    "system = SugenoInferenceSystem(list_of_rules)\n",
    "\n",
    "system.inputs[\"quality\"] = 10\n",
    "system.inputs[\"service\"] = 10\n",
    "\n",
    "system.calculate()"
   ]
  }
 ],
 "metadata": {
  "kernelspec": {
   "display_name": "Python 3",
   "language": "python",
   "name": "python3"
  },
  "language_info": {
   "codemirror_mode": {
    "name": "ipython",
    "version": 3
   },
   "file_extension": ".py",
   "mimetype": "text/x-python",
   "name": "python",
   "nbconvert_exporter": "python",
   "pygments_lexer": "ipython3",
   "version": "3.10.4"
  }
 },
 "nbformat": 4,
 "nbformat_minor": 2
}
