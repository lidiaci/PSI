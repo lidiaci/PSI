{
 "cells": [
  {
   "cell_type": "markdown",
   "metadata": {},
   "source": [
    "# Zadanie 5 - Algorytm genetyczny"
   ]
  },
  {
   "cell_type": "markdown",
   "metadata": {},
   "source": [
    "Implement a genetic algorithm to schedule jobs using available resources, so that the time to finish all tasks is minimal. Test your algorithm using different parameters and analyse the results. The data is in a separate excel files – each task has the resource (R) and time needed using this resource (T) in a specific order. You cannot change the order of operations within the task."
   ]
  },
  {
   "cell_type": "markdown",
   "metadata": {},
   "source": [
    "## Generowanie problemu"
   ]
  },
  {
   "cell_type": "code",
   "execution_count": 1,
   "metadata": {},
   "outputs": [],
   "source": [
    "import pandas as pd\n",
    "import numpy as np\n",
    "import random"
   ]
  },
  {
   "cell_type": "code",
   "execution_count": null,
   "metadata": {},
   "outputs": [],
   "source": [
    "excel_data = pd.read_excel(r\"GA_task.xlsx\")"
   ]
  },
  {
   "cell_type": "code",
   "execution_count": 3,
   "metadata": {},
   "outputs": [
    {
     "data": {
      "text/html": [
       "<div>\n",
       "<style scoped>\n",
       "    .dataframe tbody tr th:only-of-type {\n",
       "        vertical-align: middle;\n",
       "    }\n",
       "\n",
       "    .dataframe tbody tr th {\n",
       "        vertical-align: top;\n",
       "    }\n",
       "\n",
       "    .dataframe thead th {\n",
       "        text-align: right;\n",
       "    }\n",
       "</style>\n",
       "<table border=\"1\" class=\"dataframe\">\n",
       "  <thead>\n",
       "    <tr style=\"text-align: right;\">\n",
       "      <th></th>\n",
       "      <th>1</th>\n",
       "      <th>Unnamed: 1</th>\n",
       "      <th>2</th>\n",
       "      <th>Unnamed: 3</th>\n",
       "      <th>3</th>\n",
       "      <th>Unnamed: 5</th>\n",
       "      <th>4</th>\n",
       "      <th>Unnamed: 7</th>\n",
       "      <th>5</th>\n",
       "      <th>Unnamed: 9</th>\n",
       "      <th>...</th>\n",
       "      <th>46</th>\n",
       "      <th>Unnamed: 91</th>\n",
       "      <th>47</th>\n",
       "      <th>Unnamed: 93</th>\n",
       "      <th>48</th>\n",
       "      <th>Unnamed: 95</th>\n",
       "      <th>49</th>\n",
       "      <th>Unnamed: 97</th>\n",
       "      <th>50</th>\n",
       "      <th>Unnamed: 99</th>\n",
       "    </tr>\n",
       "  </thead>\n",
       "  <tbody>\n",
       "    <tr>\n",
       "      <th>0</th>\n",
       "      <td>R</td>\n",
       "      <td>T</td>\n",
       "      <td>R</td>\n",
       "      <td>T</td>\n",
       "      <td>R</td>\n",
       "      <td>T</td>\n",
       "      <td>R</td>\n",
       "      <td>T</td>\n",
       "      <td>R</td>\n",
       "      <td>T</td>\n",
       "      <td>...</td>\n",
       "      <td>R</td>\n",
       "      <td>T</td>\n",
       "      <td>R</td>\n",
       "      <td>T</td>\n",
       "      <td>R</td>\n",
       "      <td>T</td>\n",
       "      <td>R</td>\n",
       "      <td>T</td>\n",
       "      <td>R</td>\n",
       "      <td>T</td>\n",
       "    </tr>\n",
       "    <tr>\n",
       "      <th>1</th>\n",
       "      <td>9</td>\n",
       "      <td>22</td>\n",
       "      <td>5</td>\n",
       "      <td>17</td>\n",
       "      <td>5</td>\n",
       "      <td>24</td>\n",
       "      <td>8</td>\n",
       "      <td>40</td>\n",
       "      <td>9</td>\n",
       "      <td>14</td>\n",
       "      <td>...</td>\n",
       "      <td>7</td>\n",
       "      <td>21</td>\n",
       "      <td>9</td>\n",
       "      <td>24</td>\n",
       "      <td>6</td>\n",
       "      <td>37</td>\n",
       "      <td>9</td>\n",
       "      <td>26</td>\n",
       "      <td>10</td>\n",
       "      <td>36</td>\n",
       "    </tr>\n",
       "    <tr>\n",
       "      <th>2</th>\n",
       "      <td>3</td>\n",
       "      <td>49</td>\n",
       "      <td>10</td>\n",
       "      <td>13</td>\n",
       "      <td>4</td>\n",
       "      <td>28</td>\n",
       "      <td>5</td>\n",
       "      <td>47</td>\n",
       "      <td>7</td>\n",
       "      <td>45</td>\n",
       "      <td>...</td>\n",
       "      <td>3</td>\n",
       "      <td>10</td>\n",
       "      <td>10</td>\n",
       "      <td>40</td>\n",
       "      <td>7</td>\n",
       "      <td>22</td>\n",
       "      <td>1</td>\n",
       "      <td>39</td>\n",
       "      <td>2</td>\n",
       "      <td>46</td>\n",
       "    </tr>\n",
       "    <tr>\n",
       "      <th>3</th>\n",
       "      <td>1</td>\n",
       "      <td>47</td>\n",
       "      <td>7</td>\n",
       "      <td>23</td>\n",
       "      <td>1</td>\n",
       "      <td>18</td>\n",
       "      <td>5</td>\n",
       "      <td>47</td>\n",
       "      <td>6</td>\n",
       "      <td>30</td>\n",
       "      <td>...</td>\n",
       "      <td>8</td>\n",
       "      <td>22</td>\n",
       "      <td>9</td>\n",
       "      <td>24</td>\n",
       "      <td>3</td>\n",
       "      <td>39</td>\n",
       "      <td>6</td>\n",
       "      <td>31</td>\n",
       "      <td>4</td>\n",
       "      <td>16</td>\n",
       "    </tr>\n",
       "    <tr>\n",
       "      <th>4</th>\n",
       "      <td>9</td>\n",
       "      <td>30</td>\n",
       "      <td>4</td>\n",
       "      <td>29</td>\n",
       "      <td>5</td>\n",
       "      <td>32</td>\n",
       "      <td>7</td>\n",
       "      <td>18</td>\n",
       "      <td>2</td>\n",
       "      <td>20</td>\n",
       "      <td>...</td>\n",
       "      <td>7</td>\n",
       "      <td>27</td>\n",
       "      <td>7</td>\n",
       "      <td>22</td>\n",
       "      <td>2</td>\n",
       "      <td>49</td>\n",
       "      <td>10</td>\n",
       "      <td>13</td>\n",
       "      <td>5</td>\n",
       "      <td>18</td>\n",
       "    </tr>\n",
       "    <tr>\n",
       "      <th>5</th>\n",
       "      <td>5</td>\n",
       "      <td>21</td>\n",
       "      <td>6</td>\n",
       "      <td>27</td>\n",
       "      <td>4</td>\n",
       "      <td>17</td>\n",
       "      <td>7</td>\n",
       "      <td>27</td>\n",
       "      <td>10</td>\n",
       "      <td>42</td>\n",
       "      <td>...</td>\n",
       "      <td>7</td>\n",
       "      <td>50</td>\n",
       "      <td>4</td>\n",
       "      <td>26</td>\n",
       "      <td>4</td>\n",
       "      <td>19</td>\n",
       "      <td>1</td>\n",
       "      <td>20</td>\n",
       "      <td>2</td>\n",
       "      <td>21</td>\n",
       "    </tr>\n",
       "    <tr>\n",
       "      <th>6</th>\n",
       "      <td>3</td>\n",
       "      <td>19</td>\n",
       "      <td>8</td>\n",
       "      <td>33</td>\n",
       "      <td>10</td>\n",
       "      <td>31</td>\n",
       "      <td>2</td>\n",
       "      <td>43</td>\n",
       "      <td>1</td>\n",
       "      <td>29</td>\n",
       "      <td>...</td>\n",
       "      <td>10</td>\n",
       "      <td>29</td>\n",
       "      <td>8</td>\n",
       "      <td>17</td>\n",
       "      <td>3</td>\n",
       "      <td>38</td>\n",
       "      <td>10</td>\n",
       "      <td>21</td>\n",
       "      <td>2</td>\n",
       "      <td>33</td>\n",
       "    </tr>\n",
       "    <tr>\n",
       "      <th>7</th>\n",
       "      <td>2</td>\n",
       "      <td>18</td>\n",
       "      <td>2</td>\n",
       "      <td>49</td>\n",
       "      <td>8</td>\n",
       "      <td>50</td>\n",
       "      <td>7</td>\n",
       "      <td>33</td>\n",
       "      <td>4</td>\n",
       "      <td>21</td>\n",
       "      <td>...</td>\n",
       "      <td>10</td>\n",
       "      <td>33</td>\n",
       "      <td>7</td>\n",
       "      <td>12</td>\n",
       "      <td>6</td>\n",
       "      <td>24</td>\n",
       "      <td>5</td>\n",
       "      <td>25</td>\n",
       "      <td>8</td>\n",
       "      <td>46</td>\n",
       "    </tr>\n",
       "    <tr>\n",
       "      <th>8</th>\n",
       "      <td>7</td>\n",
       "      <td>45</td>\n",
       "      <td>9</td>\n",
       "      <td>39</td>\n",
       "      <td>7</td>\n",
       "      <td>34</td>\n",
       "      <td>1</td>\n",
       "      <td>10</td>\n",
       "      <td>9</td>\n",
       "      <td>35</td>\n",
       "      <td>...</td>\n",
       "      <td>10</td>\n",
       "      <td>11</td>\n",
       "      <td>6</td>\n",
       "      <td>42</td>\n",
       "      <td>8</td>\n",
       "      <td>20</td>\n",
       "      <td>4</td>\n",
       "      <td>18</td>\n",
       "      <td>3</td>\n",
       "      <td>40</td>\n",
       "    </tr>\n",
       "    <tr>\n",
       "      <th>9</th>\n",
       "      <td>6</td>\n",
       "      <td>10</td>\n",
       "      <td>1</td>\n",
       "      <td>15</td>\n",
       "      <td>5</td>\n",
       "      <td>38</td>\n",
       "      <td>1</td>\n",
       "      <td>35</td>\n",
       "      <td>7</td>\n",
       "      <td>43</td>\n",
       "      <td>...</td>\n",
       "      <td>5</td>\n",
       "      <td>13</td>\n",
       "      <td>2</td>\n",
       "      <td>24</td>\n",
       "      <td>4</td>\n",
       "      <td>48</td>\n",
       "      <td>6</td>\n",
       "      <td>40</td>\n",
       "      <td>7</td>\n",
       "      <td>27</td>\n",
       "    </tr>\n",
       "    <tr>\n",
       "      <th>10</th>\n",
       "      <td>8</td>\n",
       "      <td>39</td>\n",
       "      <td>9</td>\n",
       "      <td>12</td>\n",
       "      <td>1</td>\n",
       "      <td>29</td>\n",
       "      <td>7</td>\n",
       "      <td>15</td>\n",
       "      <td>1</td>\n",
       "      <td>12</td>\n",
       "      <td>...</td>\n",
       "      <td>6</td>\n",
       "      <td>28</td>\n",
       "      <td>2</td>\n",
       "      <td>39</td>\n",
       "      <td>6</td>\n",
       "      <td>20</td>\n",
       "      <td>3</td>\n",
       "      <td>40</td>\n",
       "      <td>7</td>\n",
       "      <td>43</td>\n",
       "    </tr>\n",
       "    <tr>\n",
       "      <th>11</th>\n",
       "      <td>5</td>\n",
       "      <td>46</td>\n",
       "      <td>7</td>\n",
       "      <td>13</td>\n",
       "      <td>1</td>\n",
       "      <td>26</td>\n",
       "      <td>9</td>\n",
       "      <td>39</td>\n",
       "      <td>7</td>\n",
       "      <td>36</td>\n",
       "      <td>...</td>\n",
       "      <td>8</td>\n",
       "      <td>11</td>\n",
       "      <td>4</td>\n",
       "      <td>33</td>\n",
       "      <td>9</td>\n",
       "      <td>31</td>\n",
       "      <td>1</td>\n",
       "      <td>19</td>\n",
       "      <td>8</td>\n",
       "      <td>18</td>\n",
       "    </tr>\n",
       "  </tbody>\n",
       "</table>\n",
       "<p>12 rows × 100 columns</p>\n",
       "</div>"
      ],
      "text/plain": [
       "    1 Unnamed: 1   2 Unnamed: 3   3 Unnamed: 5  4 Unnamed: 7   5 Unnamed: 9  \\\n",
       "0   R          T   R          T   R          T  R          T   R          T   \n",
       "1   9         22   5         17   5         24  8         40   9         14   \n",
       "2   3         49  10         13   4         28  5         47   7         45   \n",
       "3   1         47   7         23   1         18  5         47   6         30   \n",
       "4   9         30   4         29   5         32  7         18   2         20   \n",
       "5   5         21   6         27   4         17  7         27  10         42   \n",
       "6   3         19   8         33  10         31  2         43   1         29   \n",
       "7   2         18   2         49   8         50  7         33   4         21   \n",
       "8   7         45   9         39   7         34  1         10   9         35   \n",
       "9   6         10   1         15   5         38  1         35   7         43   \n",
       "10  8         39   9         12   1         29  7         15   1         12   \n",
       "11  5         46   7         13   1         26  9         39   7         36   \n",
       "\n",
       "    ...  46 Unnamed: 91  47 Unnamed: 93 48 Unnamed: 95  49 Unnamed: 97  50  \\\n",
       "0   ...   R           T   R           T  R           T   R           T   R   \n",
       "1   ...   7          21   9          24  6          37   9          26  10   \n",
       "2   ...   3          10  10          40  7          22   1          39   2   \n",
       "3   ...   8          22   9          24  3          39   6          31   4   \n",
       "4   ...   7          27   7          22  2          49  10          13   5   \n",
       "5   ...   7          50   4          26  4          19   1          20   2   \n",
       "6   ...  10          29   8          17  3          38  10          21   2   \n",
       "7   ...  10          33   7          12  6          24   5          25   8   \n",
       "8   ...  10          11   6          42  8          20   4          18   3   \n",
       "9   ...   5          13   2          24  4          48   6          40   7   \n",
       "10  ...   6          28   2          39  6          20   3          40   7   \n",
       "11  ...   8          11   4          33  9          31   1          19   8   \n",
       "\n",
       "   Unnamed: 99  \n",
       "0            T  \n",
       "1           36  \n",
       "2           46  \n",
       "3           16  \n",
       "4           18  \n",
       "5           21  \n",
       "6           33  \n",
       "7           46  \n",
       "8           40  \n",
       "9           27  \n",
       "10          43  \n",
       "11          18  \n",
       "\n",
       "[12 rows x 100 columns]"
      ]
     },
     "execution_count": 3,
     "metadata": {},
     "output_type": "execute_result"
    }
   ],
   "source": [
    "excel_data"
   ]
  },
  {
   "cell_type": "code",
   "execution_count": 4,
   "metadata": {},
   "outputs": [],
   "source": [
    "class subtask():\n",
    "    def __init__(self, machine, duration, parent):\n",
    "        self.machine = machine-1\n",
    "        self.duration = duration\n",
    "        self.parent = parent\n",
    "        self.child = None\n",
    "        \n",
    "    def assign_child(self, child):\n",
    "        self.child = child\n",
    "    \n",
    "    def assign_time(self, time):\n",
    "        self.time = time\n",
    "        self.time_and_duration = self.time + self.duration\n",
    "        \n",
    "        return self\n",
    "    \n",
    "    \n",
    "    def __repr__(self):\n",
    "        return 'task on machine ' + str(self.machine) + ' with duration ' + str(self.duration)"
   ]
  },
  {
   "cell_type": "code",
   "execution_count": null,
   "metadata": {},
   "outputs": [],
   "source": [
    "class Task():\n",
    "    \n",
    "    def __init__(self, name):\n",
    "        self.name = name\n",
    "        self.last_placed = 0\n",
    "    \n",
    "    def generate_subtasks(self, table):\n",
    "        list_of_subs = []\n",
    "        \n",
    "        for i in range(11):\n",
    "            \n",
    "            machine = table.iloc[i+1].get(table.columns[0])\n",
    "            dur = table.iloc[i+1].get(table.columns[1])\n",
    "            \n",
    "            if i==0:\n",
    "                task_to_list = subtask(machine, dur, None)\n",
    "            else:\n",
    "                task_to_list = subtask(machine, dur, list_of_subs[-1])\n",
    "                list_of_subs[-1].assign_child(task_to_list)\n",
    "                \n",
    "            list_of_subs.append(task_to_list)\n",
    "        \n",
    "        self.subtasks = list_of_subs\n",
    "        \n",
    "        return list_of_subs\n",
    "    \n",
    "    def return_last_not_placed(self):\n",
    "        \n",
    "        item = self.subtasks[self.last_placed]\n",
    "        self.last_placed = self.last_placed + 1\n",
    "        \n",
    "        if self.last_placed == 11:\n",
    "            self.last_placed = 0\n",
    "        \n",
    "        return item\n",
    "\n",
    "     \n",
    "    \n",
    "    def __repr__(self):\n",
    "        return self.name"
   ]
  },
  {
   "cell_type": "markdown",
   "metadata": {},
   "source": [
    "Generowanie listy z zadaniami z podzadaniami"
   ]
  },
  {
   "cell_type": "code",
   "execution_count": null,
   "metadata": {},
   "outputs": [
    {
     "name": "stdout",
     "output_type": "stream",
     "text": [
      "[task1, task2, task3, task4, task5, task6, task7, task8, task9, task10, task11, task12, task13, task14, task15, task16, task17, task18, task19, task20, task21, task22, task23, task24, task25, task26, task27, task28, task29, task30, task31, task32, task33, task34, task35, task36, task37, task38, task39, task40, task41, task42, task43, task44, task45, task46, task47, task48, task49, task50]\n"
     ]
    }
   ],
   "source": [
    "tasks = []\n",
    "\n",
    "for i in range(50):\n",
    "    taskk = Task('task'+str(i+1))\n",
    "    taskk.generate_subtasks(excel_data.iloc[:, 2*i:2*i+2])\n",
    "    tasks.append(taskk)\n",
    "    \n",
    "print(tasks)    "
   ]
  },
  {
   "cell_type": "markdown",
   "metadata": {},
   "source": [
    "Metody:\n",
    "\n",
    "- crossover \n",
    "\n",
    "- mutation - zamiana dwóch zadań, tak aby nie zaburzyć kolejności "
   ]
  },
  {
   "cell_type": "markdown",
   "metadata": {},
   "source": [
    "Funkcja fitness: czas od pierwszego uruchomionego zadania do końca ostatniego"
   ]
  },
  {
   "cell_type": "markdown",
   "metadata": {},
   "source": [
    "Reprezentacja chromosomu - macierz - wiersze - maszyny, kolumny - czas"
   ]
  },
  {
   "cell_type": "markdown",
   "metadata": {},
   "source": [
    "Generowanie populacji"
   ]
  },
  {
   "cell_type": "code",
   "execution_count": 7,
   "metadata": {},
   "outputs": [],
   "source": [
    "def generate_population(n_population):\n",
    "    population = [[random.uniform(0, 1) for j in range(50)] for i in range(n_population)]\n",
    "    \n",
    "    return population"
   ]
  },
  {
   "cell_type": "code",
   "execution_count": 8,
   "metadata": {},
   "outputs": [],
   "source": [
    "def mutation(individual):\n",
    "    random_number = random.randint(0, len(individual)-1)\n",
    "    \n",
    "    #min value = 0; max value = 1\n",
    "    individual[random_number] += random.uniform(-individual[random_number], 1-individual[random_number])\n",
    "    \n",
    "    return individual"
   ]
  },
  {
   "cell_type": "code",
   "execution_count": 9,
   "metadata": {},
   "outputs": [],
   "source": [
    "def crossover(individual1, individual2):\n",
    "    random_number = random.randint(1, len(individual1)-2)\n",
    "\n",
    "    return individual1[:random_number]+individual2[random_number:], individual2[:random_number]+individual1[random_number:]"
   ]
  },
  {
   "cell_type": "code",
   "execution_count": 10,
   "metadata": {},
   "outputs": [],
   "source": [
    "def sort_dict_by_key(d):\n",
    "    #segreguje słownik malejąco\n",
    "    return dict(sorted(d.items()), reverse=True)"
   ]
  },
  {
   "cell_type": "code",
   "execution_count": 11,
   "metadata": {},
   "outputs": [],
   "source": [
    "def decode_chromosome(chromosome, list_of_tasks):\n",
    "    \n",
    "    #każda wartość to czas pracy dla maszyny\n",
    "    #10 maszyn\n",
    "    factory = [0 for i in range(10)]\n",
    "    \n",
    "    #kluczami są wartości chromosomu, a wartościami odpowiadające jej zadanie\n",
    "    priority = dict()\n",
    "    \n",
    "    for num in range(len(chromosome)):\n",
    "        priority[chromosome[num]] = list_of_tasks[num]\n",
    "        \n",
    "    priority = sort_dict_by_key(priority)\n",
    "    \n",
    "    chromosome_sorted = sorted(chromosome, reverse=True)\n",
    "    \n",
    "    for i in range(11):\n",
    "        for value in chromosome_sorted:\n",
    "            \n",
    "            subtask_to_be_placed = priority[value].return_last_not_placed()\n",
    "            machine_to_place = subtask_to_be_placed.machine\n",
    "            duration_of_subtask = subtask_to_be_placed.duration\n",
    "            \n",
    "            if subtask_to_be_placed.parent == None:\n",
    "                subtask_to_be_placed.assign_time(factory[machine_to_place])\n",
    "                factory[machine_to_place] = factory[machine_to_place] + duration_of_subtask\n",
    "            \n",
    "            elif subtask_to_be_placed.parent.time_and_duration > factory[machine_to_place]:\n",
    "                subtask_to_be_placed.assign_time(subtask_to_be_placed.parent.time_and_duration)\n",
    "                factory[machine_to_place] = subtask_to_be_placed.time_and_duration + duration_of_subtask\n",
    "            \n",
    "            else:\n",
    "                subtask_to_be_placed.assign_time(factory[machine_to_place])\n",
    "                factory[machine_to_place] = factory[machine_to_place] + duration_of_subtask     \n",
    "            \n",
    "    return factory"
   ]
  },
  {
   "cell_type": "code",
   "execution_count": 12,
   "metadata": {},
   "outputs": [],
   "source": [
    "def calculate_fitness(decoded_chromosome):\n",
    "    return max(decoded_chromosome)"
   ]
  },
  {
   "cell_type": "code",
   "execution_count": null,
   "metadata": {},
   "outputs": [
    {
     "name": "stdout",
     "output_type": "stream",
     "text": [
      "[task1, task2, task3, task4, task5, task6, task7, task8, task9, task10, task11, task12, task13, task14, task15, task16, task17, task18, task19, task20, task21, task22, task23, task24, task25, task26, task27, task28, task29, task30, task31, task32, task33, task34, task35, task36, task37, task38, task39, task40, task41, task42, task43, task44, task45, task46, task47, task48, task49, task50]\n"
     ]
    }
   ],
   "source": [
    "tasks = []\n",
    "\n",
    "for i in range(50):\n",
    "    taskk = Task('task'+str(i+1))\n",
    "    taskk.generate_subtasks(excel_data.iloc[:, 2*i:2*i+2])\n",
    "    tasks.append(taskk)\n",
    "    \n",
    "print(tasks) "
   ]
  },
  {
   "cell_type": "code",
   "execution_count": 16,
   "metadata": {},
   "outputs": [],
   "source": [
    "def algorithm_with_elitism(tasks_list, prop_mutation=0.15, num_population=1000, n_iter=600):\n",
    "    #initialization\n",
    "    population = generate_population(num_population)\n",
    "    population.sort(key=lambda x: calculate_fitness(decode_chromosome(x, tasks_list)))\n",
    "    print('Wynik na początku:', calculate_fitness(decode_chromosome(population[0], tasks_list)))\n",
    "    \n",
    "    for i in range(n_iter):\n",
    "        new_population = []\n",
    "        for num in range(int(num_population/2)):\n",
    "            random_num = random.uniform(0, 1)\n",
    "            if random_num<prop_mutation:\n",
    "                offspring1 = mutation(population[2*num])\n",
    "                offspring2 = mutation(population[2*num+1])\n",
    "                new_population.append(offspring1)\n",
    "                new_population.append(offspring2)\n",
    "            else:\n",
    "                offspring1, offspring2 = crossover(population[2*num], population[2*num+1])\n",
    "                new_population.append(offspring1)\n",
    "                new_population.append(offspring2)\n",
    "        \n",
    "        new_population.sort(key=lambda x: calculate_fitness(decode_chromosome(x, tasks_list)))\n",
    "        population.sort(key=lambda x: calculate_fitness(decode_chromosome(x, tasks_list)))    \n",
    "        population = new_population[:int(num_population/2)] + population[:int(num_population/2)]\n",
    "        random.shuffle(population)\n",
    "        \n",
    "    decoded_population = [decode_chromosome(pop, tasks_list) for pop in population]       \n",
    "    \n",
    "    scores = [calculate_fitness(individual) for individual in decoded_population]\n",
    "    score = min(scores)\n",
    "    number_of_population = np.argmin(scores)\n",
    "    \n",
    "    print('Wynik na koniec:', score)\n",
    "    \n",
    "    return population[number_of_population], score"
   ]
  },
  {
   "cell_type": "code",
   "execution_count": null,
   "metadata": {},
   "outputs": [
    {
     "name": "stdout",
     "output_type": "stream",
     "text": [
      "[task1, task2, task3, task4, task5, task6, task7, task8, task9, task10, task11, task12, task13, task14, task15, task16, task17, task18, task19, task20, task21, task22, task23, task24, task25, task26, task27, task28, task29, task30, task31, task32, task33, task34, task35, task36, task37, task38, task39, task40, task41, task42, task43, task44, task45, task46, task47, task48, task49, task50]\n"
     ]
    }
   ],
   "source": [
    "tasks = []\n",
    "\n",
    "for i in range(50):\n",
    "    taskk = Task('task'+str(i+1))\n",
    "    taskk.generate_subtasks(excel_data.iloc[:, 2*i:2*i+2])\n",
    "    tasks.append(taskk)\n",
    "    \n",
    "print(tasks) "
   ]
  },
  {
   "cell_type": "code",
   "execution_count": 21,
   "metadata": {},
   "outputs": [
    {
     "name": "stdout",
     "output_type": "stream",
     "text": [
      "Wynik na początku: 2297\n",
      "Wynik na koniec: 2231\n"
     ]
    }
   ],
   "source": [
    "result2 = algorithm_with_elitism(tasks, prop_mutation=0.85, num_population=500, n_iter=500)"
   ]
  },
  {
   "cell_type": "code",
   "execution_count": 22,
   "metadata": {},
   "outputs": [
    {
     "name": "stdout",
     "output_type": "stream",
     "text": [
      "Wynik na początku: 2312\n",
      "Wynik na koniec: 2223\n"
     ]
    }
   ],
   "source": [
    "result3 = algorithm_with_elitism(tasks, prop_mutation=0.15, num_population=500, n_iter=500)"
   ]
  },
  {
   "cell_type": "code",
   "execution_count": 23,
   "metadata": {},
   "outputs": [
    {
     "name": "stdout",
     "output_type": "stream",
     "text": [
      "Wynik na początku: 2332\n",
      "Wynik na koniec: 2227\n"
     ]
    }
   ],
   "source": [
    "result4 = algorithm_with_elitism(tasks, prop_mutation=0.15, num_population=100, n_iter=100)"
   ]
  },
  {
   "cell_type": "code",
   "execution_count": 24,
   "metadata": {},
   "outputs": [
    {
     "name": "stdout",
     "output_type": "stream",
     "text": [
      "Wynik na początku: 2355\n",
      "Wynik na koniec: 2257\n"
     ]
    }
   ],
   "source": [
    "result5 = algorithm_with_elitism(tasks, prop_mutation=0.85, num_population=100, n_iter=100)"
   ]
  },
  {
   "cell_type": "code",
   "execution_count": 25,
   "metadata": {},
   "outputs": [
    {
     "name": "stdout",
     "output_type": "stream",
     "text": [
      "Wynik na początku: 2296\n",
      "Wynik na koniec: 2223\n"
     ]
    }
   ],
   "source": [
    "result6 = algorithm_with_elitism(tasks, prop_mutation=0.15, num_population=500, n_iter=100)"
   ]
  }
 ],
 "metadata": {
  "kernelspec": {
   "display_name": "Python 3",
   "language": "python",
   "name": "python3"
  },
  "language_info": {
   "codemirror_mode": {
    "name": "ipython",
    "version": 3
   },
   "file_extension": ".py",
   "mimetype": "text/x-python",
   "name": "python",
   "nbconvert_exporter": "python",
   "pygments_lexer": "ipython3",
   "version": "3.10.4"
  }
 },
 "nbformat": 4,
 "nbformat_minor": 2
}
