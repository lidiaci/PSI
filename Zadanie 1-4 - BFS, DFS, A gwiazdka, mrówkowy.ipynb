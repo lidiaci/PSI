{
 "cells": [
  {
   "cell_type": "markdown",
   "id": "ad5e5a5d",
   "metadata": {},
   "source": [
    "# Zadanie 1 - BFS i DFS"
   ]
  },
  {
   "cell_type": "markdown",
   "id": "11326f4c",
   "metadata": {},
   "source": [
    "Exercise 1 Route searching\n",
    "\n",
    "1.     Create a set of cities (as points) with coordinates x, y on a plane with height as z coordinate. The cost of going from city A to city B is equal to the Euclidean distance between two cities, if there exists a road. You should define scenarios according to two criteria:\n",
    "\n",
    "There are all the direct connections / c.a. 80% of possible connections\n",
    "The problem is symmetrical / asymmetrical (in asymmetrical – going up is height +10%, going down: -10%)\n",
    "You should choose the coordinates randomly from the range <-100, 100> for x,y and <0, 50> for z.\n",
    "\n",
    "2.     Represent the created map as a weighted (directed) graph, where cities are the nodes and roads are the edges of the graph.\n",
    "\n",
    "3.     In the created scene, solve the traveling salesman problem: The salesman starts from a chosen city and has to visit every city exactly once before returning to the starting city. The goal is to find a path with the lowest cost.\n",
    "\n",
    "In the problem, we define state as a partial or full path from the starting city and the corresponding state. You should represent the search problem in a form of state tree.\n",
    "\n",
    "Implement a full search of the tree, using BFS and DFS methods."
   ]
  },
  {
   "cell_type": "code",
   "execution_count": 1,
   "id": "b75decf0",
   "metadata": {},
   "outputs": [],
   "source": [
    "import math\n",
    "import numpy as np\n",
    "import random\n",
    "import string\n",
    "import itertools\n",
    "import time\n",
    "import matplotlib.pyplot as plt"
   ]
  },
  {
   "cell_type": "code",
   "execution_count": 2,
   "id": "72e9f4c5",
   "metadata": {},
   "outputs": [],
   "source": [
    "def points_generation(num_cities):\n",
    "    points = [[random.randint(-100, 100), random.randint(-100, 100), random.randint(0, 50)] for i in range(0,num_cities)]\n",
    "    return points"
   ]
  },
  {
   "cell_type": "code",
   "execution_count": 3,
   "id": "c9b8ef52",
   "metadata": {},
   "outputs": [],
   "source": [
    "def calculate_cost(gen_points, symmetrical=True, all_connections=True):\n",
    "    n = len(gen_points)\n",
    "    mat = np.zeros((n,n))\n",
    "    list_of_indices = []\n",
    "    \n",
    "    for i in range(n):\n",
    "        for j in range(n):\n",
    "            if i!=j:\n",
    "                list_of_indices.append([i,j])\n",
    "            \n",
    "            if symmetrical == True:\n",
    "                mat[i, j] = ((gen_points[i][0]-gen_points[j][0])**2+(gen_points[i][1]-gen_points[j][1])**2+(gen_points[i][2]-gen_points[j][2])**2)**(1/2)\n",
    "            else:\n",
    "                if gen_points[i][2]>gen_points[j][2]:\n",
    "                    mat[i, j] = ((gen_points[i][0]-gen_points[j][0])**2+(gen_points[i][1]-gen_points[j][1])**2+0.9*(gen_points[i][2]-gen_points[j][2])**2)**(1/2)\n",
    "                else:\n",
    "                    mat[i, j] = ((gen_points[i][0]-gen_points[j][0])**2+(gen_points[i][1]-gen_points[j][1])**2+1.1*(gen_points[i][2]-gen_points[j][2])**2)**(1/2)\n",
    "\n",
    "    if all_connections==False:\n",
    "        num_connections = n*(n-1)\n",
    "        to_del = math.floor(num_connections*0.2)\n",
    "        indices = random.sample(list_of_indices, to_del)\n",
    "        #-1 w macierzy oznacza brak połączenia\n",
    "        for i in indices:\n",
    "            mat[i[0], i[1]] = np.inf\n",
    "        \n",
    "    return mat"
   ]
  },
  {
   "cell_type": "code",
   "execution_count": 4,
   "id": "6d8bfbc9",
   "metadata": {},
   "outputs": [],
   "source": [
    "points = points_generation(5)\n",
    "matrix_ex = calculate_cost(points, symmetrical=False, all_connections=False)"
   ]
  },
  {
   "cell_type": "code",
   "execution_count": 5,
   "id": "a6cad385",
   "metadata": {},
   "outputs": [],
   "source": [
    "def bfs_algorithm(cost_matrix, starting_point=0):\n",
    "    n = len(cost_matrix)\n",
    "    list_of_cities = list(string.ascii_uppercase[0:n])\n",
    "    map_of_cities = {list_of_cities[i]: i for i in range(n)}\n",
    "\n",
    "    starting_city = list_of_cities[starting_point]\n",
    "    main_list = []\n",
    "    new_list = list_of_cities.copy()\n",
    "    new_list.remove(starting_city)\n",
    "    main_list.append([starting_city, new_list, 0])\n",
    "\n",
    "    while True:\n",
    "        element = main_list[0]\n",
    "        if len(element[1])==0:\n",
    "            break\n",
    "\n",
    "        for unvisited_city in element[1]:\n",
    "            if cost_matrix[map_of_cities[element[0][-1]]][map_of_cities[unvisited_city]]!=np.inf:\n",
    "                list_unv = element[1].copy()\n",
    "                list_unv.remove(unvisited_city)\n",
    "                main_list.append([element[0]+unvisited_city, list_unv, element[2]+cost_matrix[map_of_cities[element[0][-1]]][map_of_cities[unvisited_city]]])\n",
    "        main_list.pop(0)\n",
    "    \n",
    "    states = []\n",
    "    \n",
    "    for element in main_list:\n",
    "\n",
    "        if cost_matrix[map_of_cities[element[0][-1]]][starting_point]!=np.inf:\n",
    "            list_unv = element[1].copy()\n",
    "            states.append([element[0]+list_of_cities[starting_point], element[2]+cost_matrix[map_of_cities[element[0][-1]]][starting_point]])\n",
    "    \n",
    "    min_val = np.inf\n",
    "    min_arg = None\n",
    "    \n",
    "    for element in states:    \n",
    "        if element[1] < min_val:\n",
    "            min_val = element[1]\n",
    "            min_arg = element[0]\n",
    "            \n",
    "    return [min_arg, min_val]\n",
    "    "
   ]
  },
  {
   "cell_type": "code",
   "execution_count": 6,
   "id": "b4969832",
   "metadata": {},
   "outputs": [
    {
     "data": {
      "text/plain": [
       "['ACEDBA', 404.6793169641008]"
      ]
     },
     "execution_count": 6,
     "metadata": {},
     "output_type": "execute_result"
    }
   ],
   "source": [
    "bfs_algorithm(matrix_ex)"
   ]
  },
  {
   "cell_type": "code",
   "execution_count": 7,
   "id": "40803302",
   "metadata": {},
   "outputs": [],
   "source": [
    "bfs_czas = []\n",
    "for i in range(2,9):\n",
    "    start = time.time()\n",
    "    for j in range(5):\n",
    "        points = points_generation(i)\n",
    "        matrix = calculate_cost(points)\n",
    "        droga = bfs_algorithm(matrix)\n",
    "    end = time.time()\n",
    "    bfs_czas.append(end-start)"
   ]
  },
  {
   "cell_type": "code",
   "execution_count": 8,
   "id": "c3292a56",
   "metadata": {},
   "outputs": [
    {
     "data": {
      "text/plain": [
       "[0.0,\n",
       " 0.0009047985076904297,\n",
       " 0.0,\n",
       " 0.0008063316345214844,\n",
       " 0.0,\n",
       " 0.017049551010131836,\n",
       " 0.6276905536651611]"
      ]
     },
     "execution_count": 8,
     "metadata": {},
     "output_type": "execute_result"
    }
   ],
   "source": [
    "bfs_czas"
   ]
  },
  {
   "cell_type": "code",
   "execution_count": 9,
   "id": "769bcdbc",
   "metadata": {},
   "outputs": [],
   "source": [
    "def dfs_algorithm(cost_matrix, starting_point=0):\n",
    "    n = len(cost_matrix)\n",
    "    list_of_cities = list(string.ascii_uppercase[0:n])\n",
    "    map_of_cities = {list_of_cities[i]: i for i in range(n)}\n",
    "    map_of_cities = dict(reversed(list(map_of_cities.items())))\n",
    "    \n",
    "    starting_city = list_of_cities[starting_point]\n",
    "    main_list = []\n",
    "    new_list = list_of_cities.copy()\n",
    "    new_list.reverse()\n",
    "    new_list.remove(starting_city)\n",
    "    main_list.append([starting_city, new_list, 0])\n",
    "    \n",
    "    \n",
    "    list_of_poss_sol = []\n",
    "    \n",
    "    while True:\n",
    "        if len(main_list)==0:\n",
    "            break\n",
    "          \n",
    "        element = main_list.pop()\n",
    "        for unvisited_city in element[1]:\n",
    "            if cost_matrix[map_of_cities[element[0][-1]]][map_of_cities[unvisited_city]]!=np.inf:\n",
    "                list_unv = element[1].copy()\n",
    "                list_unv.remove(unvisited_city)\n",
    "                if len(element[0])==n-1:\n",
    "                    #print('dodawany element do poss_sol: ',[element[0]+unvisited_city, element[2]+cost_matrix[map_of_cities[element[0][-1]]][map_of_cities[unvisited_city]]])\n",
    "                    list_of_poss_sol.append([element[0]+unvisited_city, element[2]+cost_matrix[map_of_cities[element[0][-1]]][map_of_cities[unvisited_city]]])\n",
    "                else:\n",
    "                    main_list.append([element[0]+unvisited_city, list_unv, element[2]+cost_matrix[map_of_cities[element[0][-1]]][map_of_cities[unvisited_city]]])\n",
    "                #print(main_list)               \n",
    "    \n",
    "    states = []\n",
    "    \n",
    "    for element in list_of_poss_sol:\n",
    "        if cost_matrix[map_of_cities[element[0][-1]]][starting_point]!=np.inf:\n",
    "            states.append([element[0]+list_of_cities[starting_point], element[1]+cost_matrix[map_of_cities[element[0][-1]]][starting_point]])\n",
    "    \n",
    "    min_val = np.inf\n",
    "    min_arg = None\n",
    "    \n",
    "    for element in states:    \n",
    "        if element[1] < min_val:\n",
    "            min_val = element[1]\n",
    "            min_arg = element[0]\n",
    "            \n",
    "    return [min_arg, min_val]"
   ]
  },
  {
   "cell_type": "code",
   "execution_count": 10,
   "id": "3e9e5fe1",
   "metadata": {},
   "outputs": [
    {
     "data": {
      "text/plain": [
       "['ACEDBA', 404.6793169641008]"
      ]
     },
     "execution_count": 10,
     "metadata": {},
     "output_type": "execute_result"
    }
   ],
   "source": [
    "dfs_algorithm(matrix_ex)"
   ]
  },
  {
   "cell_type": "code",
   "execution_count": 11,
   "id": "82eea14c",
   "metadata": {},
   "outputs": [],
   "source": [
    "dfs_czas = []\n",
    "for i in range(2,9):\n",
    "    start = time.time()\n",
    "    for j in range(5):\n",
    "        points = points_generation(i)\n",
    "        matrix = calculate_cost(points)\n",
    "        droga = dfs_algorithm(matrix)\n",
    "    end = time.time()\n",
    "    dfs_czas.append(end-start)"
   ]
  },
  {
   "cell_type": "code",
   "execution_count": 12,
   "id": "6f55c5bf",
   "metadata": {},
   "outputs": [
    {
     "data": {
      "text/plain": [
       "[0.0,\n",
       " 0.0,\n",
       " 0.0011014938354492188,\n",
       " 0.0,\n",
       " 0.002996683120727539,\n",
       " 0.011462688446044922,\n",
       " 0.16967105865478516]"
      ]
     },
     "execution_count": 12,
     "metadata": {},
     "output_type": "execute_result"
    }
   ],
   "source": [
    "dfs_czas"
   ]
  },
  {
   "cell_type": "code",
   "execution_count": 13,
   "id": "1df763c3",
   "metadata": {},
   "outputs": [
    {
     "data": {
      "image/png": "[encoded data removed]",
      "text/plain": [
       "<Figure size 432x288 with 1 Axes>"
      ]
     },
     "metadata": {
      "needs_background": "light"
     },
     "output_type": "display_data"
    }
   ],
   "source": [
    "plt.plot(range(2,9), bfs_czas, label='Czas dla bfs')\n",
    "plt.plot(range(2,9), dfs_czas, label='Czas dla dfs')\n",
    "plt.legend()\n",
    "plt.xlabel('Ilość miast')\n",
    "plt.ylabel('Czas wykonania')\n",
    "plt.title('Porównanie czasu działania między bfs i dfs')\n",
    "plt.show()"
   ]
  },
  {
   "cell_type": "markdown",
   "id": "5be172b5",
   "metadata": {},
   "source": [
    "# Zadanie 2 - Nearest Neighbor"
   ]
  },
  {
   "cell_type": "markdown",
   "id": "9c804d57",
   "metadata": {},
   "source": [
    "Solve TSP using greedy algorithm with nearest neighbour as criterium and using another greedy algorithm of your choice. Use the structures from lab 1. Compare the results with full search (time, obtained cost)"
   ]
  },
  {
   "cell_type": "code",
   "execution_count": 14,
   "id": "c6076541",
   "metadata": {},
   "outputs": [],
   "source": [
    "def nearest_neighbour(cost_matrix, starting_point=0):\n",
    "    n = len(cost_matrix)\n",
    "    list_of_cities = list(string.ascii_uppercase[0:n])\n",
    "    map_of_cities = {list_of_cities[i]: i for i in range(n)}\n",
    "    \n",
    "    starting_city = list_of_cities[starting_point]\n",
    "    main_list = [] # do zapisywania drogi\n",
    "    \n",
    "    new_list = list_of_cities.copy()\n",
    "    new_list.remove(starting_city)\n",
    "    main_list.append([starting_city, new_list, 0])\n",
    "    \n",
    "    while len(main_list[0][1])!=0:\n",
    "        element = main_list.pop(0)\n",
    "        for unvisited_city in element[1]:\n",
    "            droga = element[0]+unvisited_city\n",
    "            unvisited_city_list = element[1].copy()\n",
    "            unvisited_city_list.remove(unvisited_city)\n",
    "            if cost_matrix[map_of_cities[element[0][-1]]][map_of_cities[unvisited_city]]==np.inf:\n",
    "                continue\n",
    "            koszt = element[2]+cost_matrix[map_of_cities[element[0][-1]]][map_of_cities[unvisited_city]]\n",
    "            main_list.append([droga, unvisited_city_list, koszt])\n",
    "        main_list.sort(key=lambda x: x[2])\n",
    "\n",
    "        try:\n",
    "            minimum = main_list[0]\n",
    "        except:\n",
    "            print('BRAK ROZWIĄZAŃ')\n",
    "            return None\n",
    "        \n",
    "        main_list = [minimum]\n",
    "    \n",
    "    wynik = main_list[0]\n",
    "    droga1 = wynik[0]+list_of_cities[starting_point]\n",
    "    if cost_matrix[map_of_cities[wynik[0][-1]]][starting_point]==np.inf:\n",
    "        print('brak rozwiązania')\n",
    "        return None\n",
    "    koszt = wynik[2]+cost_matrix[map_of_cities[wynik[0][-1]]][starting_point]\n",
    "    return [droga1, koszt]"
   ]
  },
  {
   "cell_type": "code",
   "execution_count": 15,
   "id": "de30c27f",
   "metadata": {},
   "outputs": [],
   "source": [
    "def two_nearest_neighbours(cost_matrix, starting_point=0):\n",
    "    n = len(cost_matrix)\n",
    "    list_of_cities = list(string.ascii_uppercase[0:n])\n",
    "    map_of_cities = {list_of_cities[i]: i for i in range(n)}\n",
    "    \n",
    "    starting_city = list_of_cities[starting_point]\n",
    "    main_list = [] # do zapisywania drogi\n",
    "    \n",
    "    new_list = list_of_cities.copy()\n",
    "    new_list.remove(starting_city)\n",
    "    main_list.append([starting_city, new_list, 0])\n",
    "    \n",
    "    while True:\n",
    "        tp = []\n",
    "        if len(main_list[0][0])==n:\n",
    "            break\n",
    "        for option in main_list:\n",
    "            for unvisited_city in option[1]:\n",
    "                droga = option[0]+unvisited_city\n",
    "                unvisited_city_list = option[1].copy()\n",
    "                unvisited_city_list.remove(unvisited_city)\n",
    "\n",
    "                koszt = option[2]+cost_matrix[map_of_cities[option[0][-1]]][map_of_cities[unvisited_city]]\n",
    "                tp.append([droga, unvisited_city_list, koszt])\n",
    "        \n",
    "        tp.sort(key=lambda x: x[2])\n",
    "        \n",
    "        main_list = tp[0:2]\n",
    "        \n",
    "    main_list.sort(key=lambda x: x[2])\n",
    "    wyniki = main_list[0:2]\n",
    "    droga1 = wyniki[0][0]+list_of_cities[starting_point]\n",
    "    droga2 = wyniki[1][0]+list_of_cities[starting_point]\n",
    "    koszt1 = wyniki[0][2]+cost_matrix[map_of_cities[wyniki[0][0][-1]]][starting_point]\n",
    "    koszt2 = wyniki[1][2]+cost_matrix[map_of_cities[wyniki[1][0][-1]]][starting_point]\n",
    "    if koszt1 == np.inf and koszt2 == np.inf:\n",
    "        print('Algorytm nie daje rozwiązania')\n",
    "        return None\n",
    "    if koszt1<koszt2:\n",
    "        return [droga1, koszt1]\n",
    "\n",
    "    else:\n",
    "        return [droga2, koszt2]"
   ]
  },
  {
   "cell_type": "code",
   "execution_count": 16,
   "id": "a22d7043",
   "metadata": {},
   "outputs": [],
   "source": [
    "points = points_generation(5)\n",
    "matrix_ex = calculate_cost(points, symmetrical=False, all_connections=False)"
   ]
  },
  {
   "cell_type": "code",
   "execution_count": 17,
   "id": "2c477b43",
   "metadata": {},
   "outputs": [
    {
     "name": "stdout",
     "output_type": "stream",
     "text": [
      "brak rozwiązania\n"
     ]
    }
   ],
   "source": [
    "nearest_neighbour(matrix_ex, 0)"
   ]
  },
  {
   "cell_type": "code",
   "execution_count": 18,
   "id": "ea3a5cfa",
   "metadata": {},
   "outputs": [
    {
     "data": {
      "text/plain": [
       "['AEBCDA', 443.1648936555885]"
      ]
     },
     "execution_count": 18,
     "metadata": {},
     "output_type": "execute_result"
    }
   ],
   "source": [
    "two_nearest_neighbours(matrix_ex, 0)"
   ]
  },
  {
   "cell_type": "code",
   "execution_count": 19,
   "id": "477d251b",
   "metadata": {},
   "outputs": [],
   "source": [
    "nn_czas = []\n",
    "for i in range(2,9):\n",
    "    start = time.time()\n",
    "    for j in range(5):\n",
    "        points = points_generation(i)\n",
    "        matrix = calculate_cost(points)\n",
    "        droga = nearest_neighbour(matrix)\n",
    "    end = time.time()\n",
    "    nn_czas.append(end-start)"
   ]
  },
  {
   "cell_type": "code",
   "execution_count": 20,
   "id": "5627675a",
   "metadata": {},
   "outputs": [
    {
     "data": {
      "image/png": "[encoded data removed]",
      "text/plain": [
       "<Figure size 432x288 with 1 Axes>"
      ]
     },
     "metadata": {
      "needs_background": "light"
     },
     "output_type": "display_data"
    }
   ],
   "source": [
    "plt.plot(range(2,9), bfs_czas, label='Czas dla bfs')\n",
    "plt.plot(range(2,9), dfs_czas, label='Czas dla dfs')\n",
    "plt.plot(range(2,9), nn_czas, label='Czas dla nearest neighbour')\n",
    "plt.legend()\n",
    "plt.xlabel('Ilość miast')\n",
    "plt.ylabel('Czas wykonania')\n",
    "plt.title('Porównanie czasu działania między bfs, dfs i nn')\n",
    "plt.show()"
   ]
  },
  {
   "cell_type": "markdown",
   "id": "d19e5a32",
   "metadata": {},
   "source": [
    "Algorytm najbliższego sąsiada jest znacznie szybszy niż bfs i dfs."
   ]
  },
  {
   "cell_type": "code",
   "execution_count": 21,
   "id": "879920c2",
   "metadata": {},
   "outputs": [],
   "source": [
    "nnb_czas = []\n",
    "for i in range(3,9):\n",
    "    start = time.time()\n",
    "    for j in range(5):\n",
    "        points = points_generation(i)\n",
    "        matrix = calculate_cost(points)\n",
    "        droga = two_nearest_neighbours(matrix)\n",
    "    end = time.time()\n",
    "    nnb_czas.append(end-start)"
   ]
  },
  {
   "cell_type": "code",
   "execution_count": 22,
   "id": "f2f2ea01",
   "metadata": {},
   "outputs": [
    {
     "data": {
      "image/png": "[encoded data removed]",
      "text/plain": [
       "<Figure size 432x288 with 1 Axes>"
      ]
     },
     "metadata": {
      "needs_background": "light"
     },
     "output_type": "display_data"
    }
   ],
   "source": [
    "plt.plot(range(2,9), bfs_czas, label='Czas dla bfs')\n",
    "plt.plot(range(2,9), dfs_czas, label='Czas dla dfs')\n",
    "plt.plot(range(2,9), nn_czas, label='Czas dla nearest neighbour')\n",
    "plt.plot(range(3,9), nnb_czas, label='Czas dla 2 nearest neighbour')\n",
    "plt.legend()\n",
    "plt.xlabel('Ilość miast')\n",
    "plt.ylabel('Czas wykonania')\n",
    "plt.title('Porównanie czasu działania między bfs, dfs, nn i 2-nn')\n",
    "plt.show()"
   ]
  },
  {
   "cell_type": "markdown",
   "id": "50220f66",
   "metadata": {},
   "source": [
    "# Zadanie 3"
   ]
  },
  {
   "cell_type": "markdown",
   "id": "d4cd1fb9",
   "metadata": {},
   "source": [
    "## Algorytm A*"
   ]
  },
  {
   "cell_type": "markdown",
   "id": "6aa8ac0d",
   "metadata": {},
   "source": [
    "Solve/approximate TSP using A* with inadmissible/admissible heuristics. Use the structures from lab 1. Compare the results with full search and greedy algorithms (time, obtained cost)"
   ]
  },
  {
   "cell_type": "code",
   "execution_count": 23,
   "id": "a9150b48",
   "metadata": {},
   "outputs": [],
   "source": [
    "def min_heuristic(cost_matrix, unvisited_cities):\n",
    "\n",
    "    n = len(cost_matrix)\n",
    "    list_of_cities = list(string.ascii_uppercase[:n])\n",
    "    map_of_cities = {list_of_cities[i]: i for i in range(n)}\n",
    "    \n",
    "    unv = [map_of_cities[i] for i in unvisited_cities]\n",
    "    min_return = np.inf\n",
    "    \n",
    "    for i in unv:\n",
    "        for j in unv:\n",
    "            if i != j and cost_matrix[i][j] < min_return:\n",
    "                min_return = cost_matrix[i][j]\n",
    "        \n",
    "    return min_return"
   ]
  },
  {
   "cell_type": "code",
   "execution_count": 24,
   "id": "2f5796ce",
   "metadata": {},
   "outputs": [],
   "source": [
    "def mean_heuristic(cost_matrix, unvisited_cities):\n",
    "\n",
    "    n = len(cost_matrix)\n",
    "    list_of_cities = list(string.ascii_uppercase[:n])\n",
    "    map_of_cities = {list_of_cities[i]: i for i in range(n)}\n",
    "    unv = [map_of_cities[i] for i in unvisited_cities]\n",
    "    \n",
    "    cost = []\n",
    "    \n",
    "    for i in unv:\n",
    "        for j in unv:\n",
    "            if cost_matrix[i, j] != np.inf and i != j:\n",
    "                cost.append(cost_matrix[i, j])\n",
    "        \n",
    "    return np.mean(cost)"
   ]
  },
  {
   "cell_type": "code",
   "execution_count": 25,
   "id": "83ff872f",
   "metadata": {},
   "outputs": [],
   "source": [
    "def algorytm_A_gwiazdka(cost_matrix, heuristic='mean'):\n",
    "    n = len(cost_matrix)\n",
    "    list_of_cities = list(string.ascii_uppercase[:n])\n",
    "    map_of_cities = {list_of_cities[i]: i for i in range(n)}\n",
    "    \n",
    "    main_list = [['A', list_of_cities.copy()[1:], 0, 0]]\n",
    "    \n",
    "    while True:\n",
    "        element = main_list.pop(0)\n",
    "        \n",
    "        if element[1] == []:\n",
    "            droga = element[0]+'A'\n",
    "            koszt = element[2]+cost_matrix[map_of_cities[element[0][-1]]][0]\n",
    "            main_list.append([droga, [], koszt, 0])\n",
    "            \n",
    "        else:\n",
    "            for unvisited_city in element[1]:\n",
    "                droga = element[0]+unvisited_city\n",
    "                updated_unvisited_city = element[1].copy()\n",
    "                updated_unvisited_city.remove(unvisited_city)\n",
    "                koszt = element[2]+cost_matrix[map_of_cities[element[0][-1]]][map_of_cities[unvisited_city]]\n",
    "\n",
    "                if heuristic == 'mean' and len(updated_unvisited_city)>1:\n",
    "                    heurystyka = mean_heuristic(cost_matrix, updated_unvisited_city)*(n-len(droga)+1)\n",
    "                elif heuristic == 'min' and len(updated_unvisited_city)>1:\n",
    "                    heurystyka = min_heuristic(cost_matrix, updated_unvisited_city)*(n-len(droga)+1) \n",
    "                elif len(updated_unvisited_city)==1:\n",
    "                    heurystyka = cost_matrix[map_of_cities[unvisited_city[0][-1]]][map_of_cities[updated_unvisited_city[0]]] + cost_matrix[map_of_cities[updated_unvisited_city[0]]][0]\n",
    "                    \n",
    "                elif len(updated_unvisited_city)==0:\n",
    "                    heurystyka = cost_matrix[map_of_cities[unvisited_city[0][-1]]][0]\n",
    "                   \n",
    "                main_list.append([droga, updated_unvisited_city, koszt, heurystyka])\n",
    "                \n",
    "        main_list.sort(key=lambda x: x[2]+x[3])\n",
    "        if len(main_list[0][0]) == n+1:\n",
    "            result = main_list[0]\n",
    "            return [result[0], result[2]]"
   ]
  },
  {
   "cell_type": "code",
   "execution_count": 26,
   "id": "d118f04a",
   "metadata": {},
   "outputs": [],
   "source": [
    "points = points_generation(5)\n",
    "matrix_ex = calculate_cost(points)"
   ]
  },
  {
   "cell_type": "code",
   "execution_count": 27,
   "id": "b0a81b7d",
   "metadata": {},
   "outputs": [
    {
     "data": {
      "text/plain": [
       "['ACEBDA', 518.346056168942]"
      ]
     },
     "execution_count": 27,
     "metadata": {},
     "output_type": "execute_result"
    }
   ],
   "source": [
    "algorytm_A_gwiazdka(matrix_ex, heuristic='min')"
   ]
  },
  {
   "cell_type": "code",
   "execution_count": 28,
   "id": "f1abcdb9",
   "metadata": {},
   "outputs": [
    {
     "data": {
      "text/plain": [
       "['ACEBDA', 518.346056168942]"
      ]
     },
     "execution_count": 28,
     "metadata": {},
     "output_type": "execute_result"
    }
   ],
   "source": [
    "algorytm_A_gwiazdka(matrix_ex, heuristic='mean')"
   ]
  },
  {
   "cell_type": "code",
   "execution_count": 29,
   "id": "43fc08f4",
   "metadata": {},
   "outputs": [],
   "source": [
    "amean_czas = []\n",
    "for i in range(2,9):\n",
    "    start = time.time()\n",
    "    for j in range(5):\n",
    "        points = points_generation(i)\n",
    "        matrix = calculate_cost(points)\n",
    "        droga = algorytm_A_gwiazdka(matrix, heuristic='mean')\n",
    "    end = time.time()\n",
    "    amean_czas.append(end-start)"
   ]
  },
  {
   "cell_type": "code",
   "execution_count": 55,
   "id": "2fef7013",
   "metadata": {},
   "outputs": [],
   "source": [
    "amin_czas = []\n",
    "for i in range(2,9):\n",
    "    start = time.time()\n",
    "    for j in range(5):\n",
    "        points = points_generation(i)\n",
    "        matrix = calculate_cost(points)\n",
    "        droga = algorytm_A_gwiazdka(matrix, heuristic='min')\n",
    "    end = time.time()\n",
    "    amin_czas.append(end-start)"
   ]
  },
  {
   "cell_type": "code",
   "execution_count": 56,
   "id": "ee73915c",
   "metadata": {},
   "outputs": [
    {
     "data": {
      "image/png": "[encoded data removed]",
      "text/plain": [
       "<Figure size 432x288 with 1 Axes>"
      ]
     },
     "metadata": {
      "needs_background": "light"
     },
     "output_type": "display_data"
    }
   ],
   "source": [
    "plt.plot(range(2,9), amin_czas, label='Czas dla A* z heurystyką min')\n",
    "plt.plot(range(2,9), amean_czas, label='Czas dla A* z heurystyką mean')\n",
    "plt.plot(range(2,9), bfs_czas, label='Czas dla bfs')\n",
    "plt.plot(range(2,9), dfs_czas, label='Czas dla dfs')\n",
    "plt.legend()\n",
    "plt.xlabel('Ilość miast')\n",
    "plt.ylabel('Czas wykonania')\n",
    "plt.title('Porównanie czasu działania między A* z heurystyką min i mean')\n",
    "plt.show()"
   ]
  },
  {
   "cell_type": "markdown",
   "id": "ef0aa7ec",
   "metadata": {},
   "source": [
    "# Zadanie 4 - Algorytm mrówkowy"
   ]
  },
  {
   "cell_type": "markdown",
   "id": "55d2a4fa",
   "metadata": {},
   "source": [
    "Approximate the solution of TSP using ACO algorithm. Use the structures from lab 1. Compare the results with full search, greedy and A* algorithms (time, obtained cost)"
   ]
  },
  {
   "cell_type": "code",
   "execution_count": 32,
   "id": "93a5658d",
   "metadata": {},
   "outputs": [],
   "source": [
    "def calculate_probability(ant, alfa, beta, tau, eta):\n",
    "    \n",
    "    '''\n",
    "    wylicza prawdopodobieństwo przejścia dla mrówki z jej obecnego miejsca do następnych nieodwiedzonych na podstawie alfa, beta, tau i eta\n",
    "    '''\n",
    "    \n",
    "    n = len(tau)\n",
    "    list_of_cities = list(string.ascii_uppercase[0:n])\n",
    "    map_of_cities = {list_of_cities[i]: i for i in range(n)}\n",
    "    prob = np.zeros(n)\n",
    "    \n",
    "    current_pos = ant[0][-1]\n",
    "    num_current_pos = map_of_cities[current_pos]\n",
    "    \n",
    "    allowed = 0\n",
    "    \n",
    "    for element in list_of_cities:\n",
    "        if element in ant[0]:\n",
    "            continue\n",
    "        p = (tau[num_current_pos, map_of_cities[element]])**alfa * (eta[num_current_pos, map_of_cities[element]])**beta\n",
    "        prob[map_of_cities[element]] = p\n",
    "        allowed = allowed + p\n",
    "        \n",
    "    return prob/allowed\n",
    "        "
   ]
  },
  {
   "cell_type": "code",
   "execution_count": 33,
   "id": "17b9c7c7",
   "metadata": {},
   "outputs": [],
   "source": [
    "def choosing_dependent_on_prob(probability):\n",
    "    '''\n",
    "    funkcja podejmująca decyzję, które miasto odwiedzi mrówka na podstawie prawdopodobieństw wybrania miasta\n",
    "    \n",
    "    ZWRACA NUMER MIASTA\n",
    "    '''\n",
    "    rand = random.uniform(0, 1)\n",
    "\n",
    "    cummulative = [probability[0]]\n",
    "    for i in range(1, len(probability)):\n",
    "        cummulative.append(cummulative[i-1]+probability[i])\n",
    "\n",
    "    for num in range(len(cummulative)):\n",
    "        if rand<cummulative[num]:\n",
    "            return num\n",
    "    "
   ]
  },
  {
   "cell_type": "code",
   "execution_count": 34,
   "id": "94ce88b0",
   "metadata": {},
   "outputs": [],
   "source": [
    "def check_stagnation(list):\n",
    "    'True - jeżeli wszystkie elementy są sobie równe, False w p.p.'\n",
    "    return all(i == list[0] for i in list)"
   ]
  },
  {
   "cell_type": "code",
   "execution_count": 35,
   "id": "0022c5e7",
   "metadata": {},
   "outputs": [],
   "source": [
    "def Ant_System_Optimization(cost_matrix, ants_num=50, alfa=2, beta=2, Q=5, n_iter=500, evaporation_rate=0.5, c=0.2, variant='ant-cycle', starting_point_for_ants=0):\n",
    "    eta = 1/cost_matrix\n",
    "    eta[eta==np.inf] = 0\n",
    "    \n",
    "    n = len(cost_matrix)\n",
    "    list_of_cities = list(string.ascii_uppercase[0:n])\n",
    "    map_of_cities = {list_of_cities[i]: i for i in range(n)}\n",
    "    \n",
    "    starting_city = list_of_cities[starting_point_for_ants]\n",
    "\n",
    "    \n",
    "    t = 0\n",
    "    delta_tau = np.zeros_like(cost_matrix)\n",
    "    tau = np.full_like(cost_matrix, c)\n",
    "    tau[cost_matrix==np.inf] = 0\n",
    "    tau[cost_matrix==0] = 0\n",
    "    \n",
    "    #ants: [the tour, unvisited_cities, distance]\n",
    "    \n",
    "    solution_list = []\n",
    "     \n",
    "    while t<n_iter:\n",
    "        t += 1\n",
    "        #zerowanie pamięci mrówek\n",
    "        ants = []\n",
    "        for i in range(ants_num):\n",
    "            temp = list_of_cities.copy()\n",
    "            temp.remove(starting_city)\n",
    "            ants.append([starting_city, temp, 0])\n",
    "\n",
    "        for i in range(len(list_of_cities)-1):\n",
    "\n",
    "            for num_mr in range(ants_num):\n",
    "                curr_city = ants[num_mr][0][-1] #miasto w którym obecnie przebywa mrówka\n",
    "                prob = calculate_probability(ants[num_mr], alfa, beta, tau, eta)\n",
    "                citys_number = choosing_dependent_on_prob(prob)\n",
    "                \n",
    "                #jeżeli none, to mrówka nie może nigdzie dojść z danego miejsca\n",
    "                if citys_number==None:\n",
    "                    continue\n",
    "                \n",
    "                #tour update\n",
    "                ants[num_mr][0] = ants[num_mr][0]+list_of_cities[citys_number]\n",
    "                temp_list = ants[num_mr][1].copy()\n",
    "                temp_list.remove(list_of_cities[citys_number])\n",
    "                ants[num_mr][1] = temp_list\n",
    "                ants[num_mr][2] = ants[num_mr][2]+cost_matrix[map_of_cities[curr_city]][citys_number]\n",
    "                \n",
    "                if variant=='ant-density':\n",
    "                    delta_tau[map_of_cities[curr_city]][citys_number] = delta_tau[map_of_cities[curr_city]][citys_number] + Q\n",
    "                elif variant=='ant-quantity':\n",
    "                    delta_tau[map_of_cities[curr_city]][citys_number] = delta_tau[map_of_cities[curr_city]][citys_number] + Q/cost_matrix[map_of_cities[curr_city]][citys_number]\n",
    "\n",
    "            if variant == 'ant-density' or variant == 'ant-quantity':\n",
    "                    tau = evaporation_rate*tau+delta_tau\n",
    "                    delta_tau = np.zeros_like(delta_tau)    \n",
    "        \n",
    "        #dojście z powrotem do miejsca startu\n",
    "        for ant in ants:\n",
    "            if len(ant[0])==n:\n",
    "                curr_city = ant[0][-1]\n",
    "                ant[0] = ant[0]+starting_city\n",
    "                ant[2] = ant[2] + cost_matrix[map_of_cities[curr_city]][starting_point_for_ants]\n",
    "                \n",
    "                if variant=='ant-density':\n",
    "                    delta_tau[map_of_cities[curr_city]][starting_point_for_ants] = delta_tau[map_of_cities[curr_city]][starting_point_for_ants] + Q\n",
    "                elif variant=='ant-quantity':\n",
    "                    delta_tau[map_of_cities[curr_city]][starting_point_for_ants] = delta_tau[map_of_cities[curr_city]][starting_point_for_ants] + Q/cost_matrix[map_of_cities[curr_city]][starting_point_for_ants]\n",
    "        \n",
    "        if variant=='ant-cycle':\n",
    "            for ant in ants:\n",
    "                #jeżeli mrówka nie doszła do końca trasy, to nie mamy jak uaktualinić\n",
    "                if len(ant[0])==n+1:\n",
    "                    #sprawdzanie połączeń\n",
    "                    for i1 in range(n):\n",
    "                        delta_tau[map_of_cities[ant[0][i1]]][map_of_cities[ant[0][i1+1]]] = delta_tau[map_of_cities[ant[0][i1]]][map_of_cities[ant[0][i1+1]]] + Q/ant[2]\n",
    "                        \n",
    "        #update tau\n",
    "        tau = evaporation_rate*tau+delta_tau\n",
    "        \n",
    "        ants.sort(key=lambda x: (len(x[0]), -x[2]), reverse=True)\n",
    "        if len(ants[0][0])==n+1:\n",
    "            solution_list.append(ants[0])\n",
    "            \n",
    "        if check_stagnation(ants):\n",
    "            break\n",
    "    \n",
    "    solution_list.sort(key=lambda x: x[2])\n",
    "    \n",
    "    return [solution_list[0][0], solution_list[0][2]]"
   ]
  },
  {
   "cell_type": "code",
   "execution_count": 36,
   "id": "48647b69",
   "metadata": {},
   "outputs": [],
   "source": [
    "points = points_generation(15)\n",
    "matrix = calculate_cost(points, symmetrical=False, all_connections=False)"
   ]
  },
  {
   "cell_type": "code",
   "execution_count": 37,
   "id": "5048c7b8",
   "metadata": {},
   "outputs": [
    {
     "name": "stderr",
     "output_type": "stream",
     "text": [
      "C:\\Users\\Lidia\\AppData\\Local\\Temp\\ipykernel_11420\\3246113240.py:2: RuntimeWarning: divide by zero encountered in divide\n",
      "  eta = 1/cost_matrix\n",
      "C:\\Users\\Lidia\\AppData\\Local\\Temp\\ipykernel_11420\\4127733997.py:24: RuntimeWarning: invalid value encountered in divide\n",
      "  return prob/allowed\n"
     ]
    },
    {
     "data": {
      "text/plain": [
       "['AGCHFLKDOJENBMIA', 858.82609251582]"
      ]
     },
     "execution_count": 37,
     "metadata": {},
     "output_type": "execute_result"
    }
   ],
   "source": [
    "Ant_System_Optimization(matrix, variant='ant-density')"
   ]
  },
  {
   "cell_type": "code",
   "execution_count": 38,
   "id": "1c86fad1",
   "metadata": {},
   "outputs": [
    {
     "name": "stderr",
     "output_type": "stream",
     "text": [
      "C:\\Users\\Lidia\\AppData\\Local\\Temp\\ipykernel_11420\\3246113240.py:2: RuntimeWarning: divide by zero encountered in divide\n",
      "  eta = 1/cost_matrix\n",
      "C:\\Users\\Lidia\\AppData\\Local\\Temp\\ipykernel_11420\\4127733997.py:24: RuntimeWarning: invalid value encountered in divide\n",
      "  return prob/allowed\n"
     ]
    },
    {
     "data": {
      "text/plain": [
       "['AIMBNEJODCGFHLKA', 818.8892779650494]"
      ]
     },
     "execution_count": 38,
     "metadata": {},
     "output_type": "execute_result"
    }
   ],
   "source": [
    "Ant_System_Optimization(matrix, variant='ant-density', alfa=0.1)"
   ]
  },
  {
   "cell_type": "code",
   "execution_count": 39,
   "id": "470b933e",
   "metadata": {},
   "outputs": [
    {
     "name": "stderr",
     "output_type": "stream",
     "text": [
      "C:\\Users\\Lidia\\AppData\\Local\\Temp\\ipykernel_11420\\3246113240.py:2: RuntimeWarning: divide by zero encountered in divide\n",
      "  eta = 1/cost_matrix\n",
      "C:\\Users\\Lidia\\AppData\\Local\\Temp\\ipykernel_11420\\4127733997.py:24: RuntimeWarning: invalid value encountered in divide\n",
      "  return prob/allowed\n"
     ]
    },
    {
     "data": {
      "text/plain": [
       "['AFGCHOJMILNBEDKA', 1225.6582964950128]"
      ]
     },
     "execution_count": 39,
     "metadata": {},
     "output_type": "execute_result"
    }
   ],
   "source": [
    "Ant_System_Optimization(matrix, variant='ant-density', beta=0.1)"
   ]
  },
  {
   "cell_type": "code",
   "execution_count": 40,
   "id": "55dc6287",
   "metadata": {},
   "outputs": [
    {
     "name": "stderr",
     "output_type": "stream",
     "text": [
      "C:\\Users\\Lidia\\AppData\\Local\\Temp\\ipykernel_11420\\3246113240.py:2: RuntimeWarning: divide by zero encountered in divide\n",
      "  eta = 1/cost_matrix\n",
      "C:\\Users\\Lidia\\AppData\\Local\\Temp\\ipykernel_11420\\4127733997.py:24: RuntimeWarning: invalid value encountered in divide\n",
      "  return prob/allowed\n"
     ]
    },
    {
     "data": {
      "text/plain": [
       "['AHKLGCBNMIEJODFA', 990.1875864066193]"
      ]
     },
     "execution_count": 40,
     "metadata": {},
     "output_type": "execute_result"
    }
   ],
   "source": [
    "Ant_System_Optimization(matrix, variant='ant-density', evaporation_rate=0.1)"
   ]
  },
  {
   "cell_type": "code",
   "execution_count": 41,
   "id": "b1d27beb",
   "metadata": {},
   "outputs": [
    {
     "name": "stderr",
     "output_type": "stream",
     "text": [
      "C:\\Users\\Lidia\\AppData\\Local\\Temp\\ipykernel_11420\\3246113240.py:2: RuntimeWarning: divide by zero encountered in divide\n",
      "  eta = 1/cost_matrix\n",
      "C:\\Users\\Lidia\\AppData\\Local\\Temp\\ipykernel_11420\\4127733997.py:24: RuntimeWarning: invalid value encountered in divide\n",
      "  return prob/allowed\n"
     ]
    },
    {
     "data": {
      "text/plain": [
       "['AIMBNEJODHFCGLKA', 832.089749530351]"
      ]
     },
     "execution_count": 41,
     "metadata": {},
     "output_type": "execute_result"
    }
   ],
   "source": [
    "Ant_System_Optimization(matrix, variant='ant-quantity')"
   ]
  },
  {
   "cell_type": "code",
   "execution_count": 42,
   "id": "a36b61d4",
   "metadata": {},
   "outputs": [
    {
     "name": "stderr",
     "output_type": "stream",
     "text": [
      "C:\\Users\\Lidia\\AppData\\Local\\Temp\\ipykernel_11420\\3246113240.py:2: RuntimeWarning: divide by zero encountered in divide\n",
      "  eta = 1/cost_matrix\n",
      "C:\\Users\\Lidia\\AppData\\Local\\Temp\\ipykernel_11420\\4127733997.py:24: RuntimeWarning: invalid value encountered in divide\n",
      "  return prob/allowed\n"
     ]
    },
    {
     "data": {
      "text/plain": [
       "['AIMBNEJODCGFHLKA', 818.8892779650494]"
      ]
     },
     "execution_count": 42,
     "metadata": {},
     "output_type": "execute_result"
    }
   ],
   "source": [
    "Ant_System_Optimization(matrix, variant='ant-quantity', alfa=0.1)"
   ]
  },
  {
   "cell_type": "code",
   "execution_count": 43,
   "id": "dab749bd",
   "metadata": {},
   "outputs": [
    {
     "name": "stderr",
     "output_type": "stream",
     "text": [
      "C:\\Users\\Lidia\\AppData\\Local\\Temp\\ipykernel_11420\\3246113240.py:2: RuntimeWarning: divide by zero encountered in divide\n",
      "  eta = 1/cost_matrix\n",
      "C:\\Users\\Lidia\\AppData\\Local\\Temp\\ipykernel_11420\\4127733997.py:24: RuntimeWarning: invalid value encountered in divide\n",
      "  return prob/allowed\n"
     ]
    },
    {
     "data": {
      "text/plain": [
       "['AIMEJDOKNBHFCGLA', 1114.5862842792128]"
      ]
     },
     "execution_count": 43,
     "metadata": {},
     "output_type": "execute_result"
    }
   ],
   "source": [
    "Ant_System_Optimization(matrix, variant='ant-quantity', beta=0.1)"
   ]
  },
  {
   "cell_type": "code",
   "execution_count": 44,
   "id": "fd2c6a88",
   "metadata": {},
   "outputs": [
    {
     "name": "stderr",
     "output_type": "stream",
     "text": [
      "C:\\Users\\Lidia\\AppData\\Local\\Temp\\ipykernel_11420\\3246113240.py:2: RuntimeWarning: divide by zero encountered in divide\n",
      "  eta = 1/cost_matrix\n",
      "C:\\Users\\Lidia\\AppData\\Local\\Temp\\ipykernel_11420\\4127733997.py:24: RuntimeWarning: invalid value encountered in divide\n",
      "  return prob/allowed\n"
     ]
    },
    {
     "data": {
      "text/plain": [
       "['AHFCGIMBNEOJDLKA', 912.8425460027402]"
      ]
     },
     "execution_count": 44,
     "metadata": {},
     "output_type": "execute_result"
    }
   ],
   "source": [
    "Ant_System_Optimization(matrix, variant='ant-quantity', evaporation_rate=0.1)"
   ]
  },
  {
   "cell_type": "code",
   "execution_count": 45,
   "id": "b4935443",
   "metadata": {},
   "outputs": [
    {
     "name": "stderr",
     "output_type": "stream",
     "text": [
      "C:\\Users\\Lidia\\AppData\\Local\\Temp\\ipykernel_11420\\3246113240.py:2: RuntimeWarning: divide by zero encountered in divide\n",
      "  eta = 1/cost_matrix\n",
      "C:\\Users\\Lidia\\AppData\\Local\\Temp\\ipykernel_11420\\4127733997.py:24: RuntimeWarning: invalid value encountered in divide\n",
      "  return prob/allowed\n"
     ]
    },
    {
     "data": {
      "text/plain": [
       "['AHFCGLKDOJENBMIA', 830.565621155106]"
      ]
     },
     "execution_count": 45,
     "metadata": {},
     "output_type": "execute_result"
    }
   ],
   "source": [
    "Ant_System_Optimization(matrix, variant='ant-cycle')"
   ]
  },
  {
   "cell_type": "code",
   "execution_count": 46,
   "id": "7776b2d1",
   "metadata": {},
   "outputs": [
    {
     "name": "stderr",
     "output_type": "stream",
     "text": [
      "C:\\Users\\Lidia\\AppData\\Local\\Temp\\ipykernel_11420\\3246113240.py:2: RuntimeWarning: divide by zero encountered in divide\n",
      "  eta = 1/cost_matrix\n",
      "C:\\Users\\Lidia\\AppData\\Local\\Temp\\ipykernel_11420\\4127733997.py:24: RuntimeWarning: invalid value encountered in divide\n",
      "  return prob/allowed\n"
     ]
    },
    {
     "data": {
      "text/plain": [
       "['AIMBNEJODCGFHLKA', 818.8892779650494]"
      ]
     },
     "execution_count": 46,
     "metadata": {},
     "output_type": "execute_result"
    }
   ],
   "source": [
    "Ant_System_Optimization(matrix, variant='ant-cycle', alfa=0.1)"
   ]
  },
  {
   "cell_type": "code",
   "execution_count": 47,
   "id": "852f7449",
   "metadata": {},
   "outputs": [
    {
     "name": "stderr",
     "output_type": "stream",
     "text": [
      "C:\\Users\\Lidia\\AppData\\Local\\Temp\\ipykernel_11420\\3246113240.py:2: RuntimeWarning: divide by zero encountered in divide\n",
      "  eta = 1/cost_matrix\n",
      "C:\\Users\\Lidia\\AppData\\Local\\Temp\\ipykernel_11420\\4127733997.py:24: RuntimeWarning: invalid value encountered in divide\n",
      "  return prob/allowed\n"
     ]
    },
    {
     "data": {
      "text/plain": [
       "['AGMIBNJEDOHFLKCA', 1002.924405101626]"
      ]
     },
     "execution_count": 47,
     "metadata": {},
     "output_type": "execute_result"
    }
   ],
   "source": [
    "Ant_System_Optimization(matrix, variant='ant-cycle', beta=0.1)"
   ]
  },
  {
   "cell_type": "code",
   "execution_count": 48,
   "id": "20b5d3ba",
   "metadata": {},
   "outputs": [
    {
     "name": "stderr",
     "output_type": "stream",
     "text": [
      "C:\\Users\\Lidia\\AppData\\Local\\Temp\\ipykernel_11420\\3246113240.py:2: RuntimeWarning: divide by zero encountered in divide\n",
      "  eta = 1/cost_matrix\n",
      "C:\\Users\\Lidia\\AppData\\Local\\Temp\\ipykernel_11420\\4127733997.py:24: RuntimeWarning: invalid value encountered in divide\n",
      "  return prob/allowed\n"
     ]
    },
    {
     "data": {
      "text/plain": [
       "['AHFCGLKDOJENBMIA', 830.565621155106]"
      ]
     },
     "execution_count": 48,
     "metadata": {},
     "output_type": "execute_result"
    }
   ],
   "source": [
    "Ant_System_Optimization(matrix, variant='ant-cycle', evaporation_rate=0.1)"
   ]
  },
  {
   "cell_type": "code",
   "execution_count": 49,
   "id": "1d1ba1fb",
   "metadata": {},
   "outputs": [
    {
     "name": "stderr",
     "output_type": "stream",
     "text": [
      "C:\\Users\\Lidia\\AppData\\Local\\Temp\\ipykernel_11420\\3246113240.py:2: RuntimeWarning: divide by zero encountered in divide\n",
      "  eta = 1/cost_matrix\n"
     ]
    }
   ],
   "source": [
    "ants_czas = []\n",
    "for i in range(2,9):\n",
    "    start = time.time()\n",
    "    for j in range(5):\n",
    "        points = points_generation(i)\n",
    "        matrix = calculate_cost(points)\n",
    "        droga = Ant_System_Optimization(matrix)\n",
    "    end = time.time()\n",
    "    ants_czas.append(end-start)"
   ]
  },
  {
   "cell_type": "code",
   "execution_count": 57,
   "id": "a35da730",
   "metadata": {},
   "outputs": [
    {
     "data": {
      "image/png": "[encoded data removed]",
      "text/plain": [
       "<Figure size 432x288 with 1 Axes>"
      ]
     },
     "metadata": {
      "needs_background": "light"
     },
     "output_type": "display_data"
    }
   ],
   "source": [
    "plt.plot(range(2,9), bfs_czas, label='Czas dla bfs')\n",
    "plt.plot(range(2,9), dfs_czas, label='Czas dla dfs')\n",
    "plt.plot(range(2,9), nn_czas, label='Czas dla nearest neighbour')\n",
    "plt.plot(range(3,9), nnb_czas, label='Czas dla 2-nearest neighbours')\n",
    "plt.plot(range(2,9), ants_czas, label='Czas dla ASO z 50 mrówkami')\n",
    "plt.plot(range(2,9), amin_czas, label='Czas dla A* z heurystyką min')\n",
    "plt.plot(range(2,9), amean_czas, label='Czas dla A* z heurystyką mean')\n",
    "plt.legend()\n",
    "plt.xlabel('Ilość miast')\n",
    "plt.ylabel('Czas wykonania')\n",
    "plt.title('Porównanie czasu działania algorytmów dla problemu komiwojażera')\n",
    "plt.show()"
   ]
  },
  {
   "cell_type": "code",
   "execution_count": 65,
   "id": "e5013d47",
   "metadata": {},
   "outputs": [
    {
     "name": "stderr",
     "output_type": "stream",
     "text": [
      "C:\\Users\\Lidia\\AppData\\Local\\Temp\\ipykernel_11420\\3246113240.py:2: RuntimeWarning: divide by zero encountered in divide\n",
      "  eta = 1/cost_matrix\n"
     ]
    }
   ],
   "source": [
    "import matplotlib.pyplot as plt\n",
    "\n",
    "bfs = []\n",
    "dfs = []\n",
    "nn = []\n",
    "nn2 = []\n",
    "a_mean = []\n",
    "a_min = []\n",
    "aso_density = []\n",
    "aso_quantity = []\n",
    "aso_cycle=[]\n",
    "\n",
    "for i in range(10):\n",
    "    points = points_generation(7)\n",
    "    matrix = calculate_cost(points)\n",
    "    \n",
    "    bfs.append(bfs_algorithm(matrix)[1])\n",
    "    dfs.append(dfs_algorithm(matrix)[1])\n",
    "    nn.append(nearest_neighbour(matrix)[1])\n",
    "    nn2.append(two_nearest_neighbours(matrix)[1])\n",
    "    a_mean.append(algorytm_A_gwiazdka(matrix, heuristic='mean')[1])\n",
    "    a_min.append(algorytm_A_gwiazdka(matrix, heuristic='min')[1])\n",
    "    aso_density.append(Ant_System_Optimization(matrix, variant='ant-density')[1])\n",
    "    aso_quantity.append(Ant_System_Optimization(matrix, variant='ant-quantity')[1])\n",
    "    aso_cycle.append(Ant_System_Optimization(matrix, variant='ant-cycle')[1])\n"
   ]
  },
  {
   "cell_type": "code",
   "execution_count": 67,
   "id": "3fe58537",
   "metadata": {},
   "outputs": [
    {
     "data": {
      "image/png": "[encoded data removed]",
      "text/plain": [
       "<Figure size 432x288 with 1 Axes>"
      ]
     },
     "metadata": {
      "needs_background": "light"
     },
     "output_type": "display_data"
    }
   ],
   "source": [
    "plt.bar(['bfs', 'dfs', 'NN', '2-NN', 'A* mean', 'A* min', 'ASO z ant-density', 'ASO z ant-quantity', 'ASO z ant-cycle'],\n",
    "        [np.mean(bfs),  np.mean(dfs), np.mean(nn), np.mean(nn2), np.mean(a_mean), np.mean(a_min), np.mean(aso_density), np.mean(aso_quantity), np.mean(aso_cycle)])\n",
    "plt.title('Porównanie średniej długości ścieżek')\n",
    "plt.ylim(510, 580)\n",
    "plt.xticks(rotation=45)\n",
    "plt.show()"
   ]
  }
 ],
 "metadata": {
  "kernelspec": {
   "display_name": "Python 3 (ipykernel)",
   "language": "python",
   "name": "python3"
  },
  "language_info": {
   "codemirror_mode": {
    "name": "ipython",
    "version": 3
   },
   "file_extension": ".py",
   "mimetype": "text/x-python",
   "name": "python",
   "nbconvert_exporter": "python",
   "pygments_lexer": "ipython3",
   "version": "3.10.4"
  }
 },
 "nbformat": 4,
 "nbformat_minor": 5
}
