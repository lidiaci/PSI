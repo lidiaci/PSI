{
 "cells": [
  {
   "cell_type": "markdown",
   "metadata": {},
   "source": [
    "# Zadanie 6 - Particle Swarm Optimization"
   ]
  },
  {
   "cell_type": "markdown",
   "metadata": {},
   "source": [
    "Implement the Particle Swarm Optimisation algorithm to find the minimum of the following function:\n",
    "\n",
    "f(x,y) = (1.5 – x -xy)^2 + (2.25 – x + xy^2)^2 + (2.625 – x + xy^3)^2 for x,y in range <-4.5, 4.5>\n",
    "\n",
    "Test your algorithm using different parameters and analyse the results."
   ]
  },
  {
   "cell_type": "code",
   "execution_count": 10,
   "metadata": {},
   "outputs": [],
   "source": [
    "import matplotlib.pyplot as plt"
   ]
  },
  {
   "cell_type": "code",
   "execution_count": 5,
   "metadata": {},
   "outputs": [],
   "source": [
    "def objective(x, y):\n",
    "    return (1.5-x-x*y)**2 + (2.25-x+x*y**2)**2 + (2.625-x+x*y**3)**2\n",
    "\n",
    "#range -4.5, 4.5"
   ]
  },
  {
   "cell_type": "code",
   "execution_count": 6,
   "metadata": {},
   "outputs": [],
   "source": [
    "import random\n",
    "import numpy as np"
   ]
  },
  {
   "cell_type": "code",
   "execution_count": 7,
   "metadata": {},
   "outputs": [],
   "source": [
    "class swarm():\n",
    "    \n",
    "    def __init__(self, w, c1, c2):\n",
    "        self.w = w\n",
    "        self.c1 = c1\n",
    "        self.c2 = c2\n",
    "        self.x = np.array([random.uniform(-4.5,4.5), random.uniform(-4.5, 4.5)])\n",
    "        self.pbest = self.x\n",
    "        vv = random.uniform(0, 1)\n",
    "        self.v = np.array([vv, vv])\n",
    "    \n",
    "    def move(self, gbest):\n",
    "        old_x = self.x.copy()\n",
    "        self.v = self.w*self.v+self.c1*random.uniform(0, 1)*(self.pbest-self.x)+self.c2*random.uniform(0, 1)*(gbest-self.x)\n",
    "        self.x = self.x + self.v\n",
    "        \n",
    "        if objective(self.x[0], self.x[1])<objective(old_x[0], old_x[1]):\n",
    "            self.pbest = self.x\n",
    "        \n",
    "        return self.pbest\n",
    "            \n",
    "    def __str__(self):\n",
    "        return 'pos: ' + str(self.x) + ' pbest: ' + str(self.pbest)\n",
    "    "
   ]
  },
  {
   "cell_type": "code",
   "execution_count": 11,
   "metadata": {},
   "outputs": [],
   "source": [
    "def PSO(w, c1, c2, n_swarm=100, n_iter=5000):\n",
    "    \n",
    "    swarm_list = [swarm(w, c1, c2) for i in range(n_swarm)]\n",
    "\n",
    "    gbest1 = []\n",
    "    for i in swarm_list:\n",
    "        gbest1.append([i.pbest, objective(*i.pbest)])\n",
    "    gbest1.sort(key=lambda x: x[1])\n",
    "    gbest = gbest1[0][0]\n",
    "\n",
    "    for t in range(n_iter):\n",
    "        pbest1 = []\n",
    "        for particle in swarm_list:\n",
    "            coords = particle.move(gbest)\n",
    "            pbest1.append([coords, objective(*coords)])\n",
    "        pbest1.sort(key=lambda x: x[1])\n",
    "        gbest = gbest1[0][0]\n",
    "\n",
    "    return gbest"
   ]
  },
  {
   "cell_type": "code",
   "execution_count": 12,
   "metadata": {},
   "outputs": [
    {
     "data": {
      "text/plain": [
       "0.0184897074374857"
      ]
     },
     "execution_count": 12,
     "metadata": {},
     "output_type": "execute_result"
    }
   ],
   "source": [
    "result1 = PSO(0.8, 0.1, 0.1, 10000, 1000)\n",
    "\n",
    "objective(*result1)"
   ]
  },
  {
   "cell_type": "code",
   "execution_count": 15,
   "metadata": {},
   "outputs": [
    {
     "name": "stdout",
     "output_type": "stream",
     "text": [
      "minimum w [ 2.45282141 -0.25036439] | wartość: 0.13501271070755982\n"
     ]
    }
   ],
   "source": [
    "result2 = PSO(0.1, 0.1, 0.1, 100, 1000)\n",
    "print('minimum w', result2, '| wartość:', objective(*result2))"
   ]
  },
  {
   "cell_type": "code",
   "execution_count": 21,
   "metadata": {},
   "outputs": [
    {
     "name": "stdout",
     "output_type": "stream",
     "text": [
      "minimum w [ 2.28710679 -0.15458806] | wartość: 0.2968046794216288\n"
     ]
    }
   ],
   "source": [
    "result3 = PSO(1, 0.1, 0.1, 100, 1000)\n",
    "print('minimum w', result3, '| wartość:', objective(*result3))"
   ]
  },
  {
   "cell_type": "code",
   "execution_count": 20,
   "metadata": {},
   "outputs": [
    {
     "name": "stdout",
     "output_type": "stream",
     "text": [
      "minimum w [ 2.77496281 -0.41838526] | wartość: 0.13926926873219067\n"
     ]
    }
   ],
   "source": [
    "result3 = PSO(0.8, 0.5, 0.1, 1000, 1000)\n",
    "print('minimum w', result3, '| wartość:', objective(*result3))"
   ]
  },
  {
   "cell_type": "code",
   "execution_count": 22,
   "metadata": {},
   "outputs": [
    {
     "name": "stdout",
     "output_type": "stream",
     "text": [
      "minimum w [ 2.51949251 -0.37921898] | wartość: 0.01373694744074067\n"
     ]
    }
   ],
   "source": [
    "result4 = PSO(0.8, 0.5, 0.5, 1000, 1000)\n",
    "print('minimum w', result4, '| wartość:', objective(*result4))"
   ]
  },
  {
   "cell_type": "code",
   "execution_count": 23,
   "metadata": {},
   "outputs": [
    {
     "name": "stdout",
     "output_type": "stream",
     "text": [
      "minimum w [ 2.28466053 -0.33686213] | wartość: 0.11468101870131348\n"
     ]
    }
   ],
   "source": [
    "result5 = PSO(0.8, 0.5, 1, 1000, 1000)\n",
    "print('minimum w', result5, '| wartość:', objective(*result5))"
   ]
  },
  {
   "cell_type": "code",
   "execution_count": 24,
   "metadata": {},
   "outputs": [
    {
     "name": "stdout",
     "output_type": "stream",
     "text": [
      "minimum w [ 2.39065773 -0.30932206] | wartość: 0.05737312798696282\n"
     ]
    }
   ],
   "source": [
    "result6 = PSO(0.8, 1, 1, 1000, 1000)\n",
    "print('minimum w', result6, '| wartość:', objective(*result6))"
   ]
  },
  {
   "cell_type": "code",
   "execution_count": 25,
   "metadata": {},
   "outputs": [
    {
     "name": "stdout",
     "output_type": "stream",
     "text": [
      "minimum w [ 2.41804067 -0.26812585] | wartość: 0.09848435828590042\n"
     ]
    }
   ],
   "source": [
    "result7 = PSO(0.1, 1, 1, 1000, 1000)\n",
    "print('minimum w', result7, '| wartość:', objective(*result7))"
   ]
  }
 ],
 "metadata": {
  "kernelspec": {
   "display_name": "Python 3",
   "language": "python",
   "name": "python3"
  },
  "language_info": {
   "codemirror_mode": {
    "name": "ipython",
    "version": 3
   },
   "file_extension": ".py",
   "mimetype": "text/x-python",
   "name": "python",
   "nbconvert_exporter": "python",
   "pygments_lexer": "ipython3",
   "version": "3.10.4"
  }
 },
 "nbformat": 4,
 "nbformat_minor": 2
}
