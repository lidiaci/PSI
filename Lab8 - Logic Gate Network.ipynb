{
 "cells": [
  {
   "cell_type": "markdown",
   "metadata": {},
   "source": [
    "## Lab 8 - Logic Gate Network"
   ]
  },
  {
   "cell_type": "markdown",
   "metadata": {},
   "source": [
    "Zaimplementuj Logic Gate Network, czyli sieć warstwową, w której każdy \"neuron\" wykorzystuje jeden z operatorów logicznych na wybranych wejściach. W trakcie uczenia, możliwa jest modyfikacja wyboru wejść i zmiana operatora. Wygeneruj zbiór danych na zainicjalizowanym modelu, a następnie spróbuj nauczyć inny model, wykorzystując np. algorytm genetyczny."
   ]
  },
  {
   "cell_type": "markdown",
   "metadata": {},
   "source": [
    "### Logic Gate"
   ]
  },
  {
   "cell_type": "code",
   "execution_count": 73,
   "metadata": {},
   "outputs": [],
   "source": [
    "class LogicGate():\n",
    "    def __init__(self, operator, input_elements):\n",
    "        self.input_elements = input_elements\n",
    "        self.operator_name = operator\n",
    "        self.operator_dict = {'AND': self._and_operator, 'OR': self._or_operator, 'XOR': self._xor_operator, 'NAND': self._nand_operator, 'NOR': self._nor_operator}\n",
    "        self.operator = self.operator_dict[operator]\n",
    "        \n",
    "    def _and_operator(self, inp1, inp2):\n",
    "        if inp1 == 1 and inp2 ==1:\n",
    "            return 1\n",
    "        else:\n",
    "            return 0\n",
    "            \n",
    "    def _or_operator(self, inp1, inp2):\n",
    "        if any([inp1, inp2]):\n",
    "            return 1\n",
    "        else:\n",
    "            return 0\n",
    "            \n",
    "    def _xor_operator(self, inp1, inp2):\n",
    "        if inp1 != inp2:\n",
    "            return 1\n",
    "        else:\n",
    "            return 0\n",
    "        \n",
    "    def _nand_operator(self, inp1, inp2):\n",
    "        if inp1 == inp2 and inp1 == 1:\n",
    "            return 0\n",
    "        else:\n",
    "            return 1\n",
    "        \n",
    "    def _nor_operator(self, inp1, inp2):\n",
    "        if inp1 == inp2 and inp1 == 0:\n",
    "            return 1\n",
    "        else:\n",
    "            return 0\n",
    "        \n",
    "    def calculate(self, inp1, inp2):\n",
    "        return self.operator(inp1, inp2)\n",
    "        \n",
    "    def change_operator(self, new_operator):\n",
    "        self.operator = self.operator_dict[new_operator]\n",
    "            \n",
    "    def change_inputs(self, new_inputs):\n",
    "        self.input_elements = new_inputs\n",
    "            \n",
    "    def return_elements(self):\n",
    "        return self.input_elements\n",
    "    \n",
    "    def __repr__(self):\n",
    "        return f'operator : {self.operator_name}, inputs: {self.input_elements}'"
   ]
  },
  {
   "cell_type": "markdown",
   "metadata": {},
   "source": [
    "### Logic Gate Network"
   ]
  },
  {
   "cell_type": "code",
   "execution_count": 74,
   "metadata": {},
   "outputs": [],
   "source": [
    "import numpy as np\n",
    "\n",
    "class LogicGateNetwork():\n",
    "    def __init__(self, input_size):\n",
    "        self.layers = []\n",
    "        self.layer_dict = {}\n",
    "        self.size_of_network = {0: input_size}\n",
    "        self.input_size = input_size\n",
    "        \n",
    "    def add_inputs(self, input_list):\n",
    "        if len(input_list) != self.input_size:\n",
    "            raise Exception(\"Length of input list does not equal input size for this network\")\n",
    "        self.layer_dict[0] = input_list\n",
    "    \n",
    "    def add_layer(self, number, gate_list):\n",
    "        self.layer_dict[number] = gate_list\n",
    "        self.size_of_network[number] = len(gate_list)      \n",
    "    \n",
    "    def calculate(self):\n",
    "        current_layer = 1\n",
    "        list_of_results = self.layer_dict[0]\n",
    "        for current_layer in range(1, len(self.layer_dict)):\n",
    "            operators = self.layer_dict[current_layer]\n",
    "            list_of_current_results = []\n",
    "            for operator in operators:\n",
    "                inp_ind1, inp_ind2 = operator.return_elements()\n",
    "                inp1, inp2 = list_of_results[inp_ind1], list_of_results[inp_ind2]\n",
    "                result = operator.calculate(inp1, inp2)\n",
    "                list_of_current_results.append(result)\n",
    "            list_of_results = list_of_current_results\n",
    "            current_layer = current_layer + 1\n",
    "        return list_of_results\n",
    "    \n",
    "    def __repr__(self):\n",
    "        string = ''\n",
    "        for layer_num, layer_el in self.layer_dict.items():\n",
    "            string = string + f'layer {layer_num}: {str(layer_el)} \\n'\n",
    "        return string"
   ]
  },
  {
   "cell_type": "markdown",
   "metadata": {},
   "source": [
    "### Genetic Algorithm for Logic Gate Network"
   ]
  },
  {
   "cell_type": "code",
   "execution_count": 210,
   "metadata": {},
   "outputs": [],
   "source": [
    "import random\n",
    "from copy import deepcopy\n",
    "\n",
    "class GAForLogicGateNetwork():\n",
    "    \n",
    "    def __init__(self, example_network, p_mutation=0.4, n_population=500, n_iter=1000):\n",
    "        self.size_dict = example_network.size_of_network\n",
    "        self.input_size = example_network.input_size\n",
    "        self.p_mutation = p_mutation\n",
    "        self.n_population = n_population\n",
    "        self.n_iter = n_iter\n",
    "        \n",
    "        self.population = [self.generate_individual() for _ in range(n_population)]\n",
    "    \n",
    "    def generate_individual(self):\n",
    "        individual = LogicGateNetwork(self.input_size)\n",
    "        for layer_num, size_of_layer in self.size_dict.items():\n",
    "            if layer_num==0:\n",
    "                continue\n",
    "            layer = []\n",
    "            for _ in range(size_of_layer):\n",
    "                random_operator = np.random.choice(['AND', 'OR', 'XOR', 'NAND', 'NOR'])\n",
    "                random_inputs = np.random.choice(range(self.size_dict[layer_num-1]), 2, False)\n",
    "                layer.append(LogicGate(random_operator, tuple(random_inputs)))\n",
    "            individual.add_layer(layer_num, layer)\n",
    "        return individual\n",
    "    \n",
    "    def crossover(self, individual1, individual2):\n",
    "        crossover_layer = np.random.randint(1, len(self.size_dict)-1)\n",
    "        for i in range(1, len(self.size_dict)):\n",
    "            if i<=crossover_layer:\n",
    "                individual1.layer_dict[i], individual2.layer_dict[i] = individual2.layer_dict[i], individual1.layer_dict[i]\n",
    "        return individual1, individual2\n",
    "                \n",
    "    def fitness_function(self, outputs, values):\n",
    "        return sum(np.array(outputs) != np.array(values))\n",
    "    \n",
    "    def mutation(self, individual):\n",
    "        # wybieramy warstwę\n",
    "        random_layer = np.random.randint(1, len(self.size_dict))\n",
    "        # wybieramy komórkę do zmiany\n",
    "        random_gate = np.random.randint(0, self.size_dict[random_layer])\n",
    "        random_operator = np.random.choice(['AND', 'OR', 'XOR', 'NAND', 'NOR'])\n",
    "        random_inputs = np.random.choice(range(self.size_dict[random_layer-1]), 2, False)\n",
    "        individual.layer_dict[random_layer][random_gate] = LogicGate(random_operator, tuple(random_inputs))\n",
    "\n",
    "        return individual\n",
    "    \n",
    "    def evaluate_individual(self, individual, xs, ys):\n",
    "        result = []\n",
    "        for x in xs:\n",
    "            individual.add_inputs(x)\n",
    "            result.append(*individual.calculate()) \n",
    "        return self.fitness_function(result, ys)\n",
    "            \n",
    "    def optimize(self, x, y):\n",
    "        elitism_percent = 0.1\n",
    "        n_elite = n_elite = max(1, int(self.n_population * elitism_percent))  # Ensure at least 1 elite individual\n",
    "        sorted_population = sorted(self.population, key=lambda ind: self.evaluate_individual(ind, x, y))\n",
    "        best_individual_so_far = [deepcopy(sorted_population[0]), self.evaluate_individual(sorted_population[0], x, y)]\n",
    "        print('Initial Best Fitness:', self.evaluate_individual(sorted_population[0], x, y))\n",
    "        \n",
    "        for _ in range(self.n_iter):\n",
    "            elite_individuals = deepcopy(sorted_population[:n_elite])\n",
    "            \n",
    "            new_population = []\n",
    "            for _ in range((self.n_population-n_elite)//2):\n",
    "                parent1, parent2 = random.sample(sorted_population, 2)\n",
    "                \n",
    "                if random.random() < self.p_mutation:\n",
    "                    offspring1 = self.mutation(parent1)\n",
    "                    offspring2 = self.mutation(parent2)\n",
    "                else:\n",
    "                    offspring1, offspring2 = self.crossover(parent1, parent2)\n",
    "                    \n",
    "                new_population.append(offspring1)\n",
    "                new_population.append(offspring2)\n",
    "            \n",
    "            combined_population = elite_individuals + new_population\n",
    "            \n",
    "            sorted_population = sorted(combined_population, key=lambda ind: self.evaluate_individual(ind, x, y))[:self.n_population]\n",
    "            best_individual = deepcopy(sorted_population[0])\n",
    "            best_score = self.evaluate_individual(best_individual, x, y)\n",
    "            \n",
    "            if best_score > best_individual_so_far[1]:\n",
    "                best_individual_so_far = [best_individual, best_score]\n",
    "            \n",
    "            if best_score == 0:\n",
    "                break\n",
    "        \n",
    "        sorted_population = sorted(sorted_population, key=lambda ind: self.evaluate_individual(ind, x, y))[:self.n_population]\n",
    "        best_individual = sorted_population[0]\n",
    "        best_score = self.evaluate_individual(best_individual, x, y)\n",
    "        \n",
    "        print(\"Final Best Fitness:\", best_score)\n",
    "        \n",
    "        return best_individual, best_score"
   ]
  },
  {
   "cell_type": "markdown",
   "metadata": {},
   "source": [
    "### Application"
   ]
  },
  {
   "cell_type": "code",
   "execution_count": 211,
   "metadata": {},
   "outputs": [
    {
     "data": {
      "text/plain": [
       "[0]"
      ]
     },
     "execution_count": 211,
     "metadata": {},
     "output_type": "execute_result"
    }
   ],
   "source": [
    "# Network Architecture\n",
    "\n",
    "first_layer = [LogicGate('AND', (0,2)), LogicGate('NOR', (1,4)), LogicGate('XOR', (3,5))]\n",
    "second_layer = [LogicGate('NAND', (0,1)), LogicGate('OR', (0,1)), LogicGate('OR', (1,2)), LogicGate('AND', (1,2))]\n",
    "third_layer = [LogicGate('AND', (0,1)), LogicGate('AND', (1,2)), LogicGate('NOR', (2,3))]\n",
    "forth_layer = [LogicGate('AND', (0,1)), LogicGate('OR', (1,2))]\n",
    "fifth_layer = [LogicGate('NOR', (0,1))]\n",
    "\n",
    "inputs = [1,1,0,0,1,0]\n",
    "\n",
    "siec = LogicGateNetwork(6)\n",
    "siec.add_layer(1, first_layer)\n",
    "siec.add_layer(2, second_layer)\n",
    "siec.add_layer(3, third_layer)\n",
    "siec.add_layer(4, forth_layer)\n",
    "siec.add_layer(5, fifth_layer)\n",
    "\n",
    "siec.add_inputs(inputs)\n",
    "siec.calculate()"
   ]
  },
  {
   "cell_type": "code",
   "execution_count": 212,
   "metadata": {},
   "outputs": [
    {
     "name": "stdout",
     "output_type": "stream",
     "text": [
      "[0, 0, 0, 1, 0, 0, 1, 0, 0, 0, 0, 1, 0, 0, 1, 0, 0, 1, 0, 1, 1, 0, 1, 0, 0, 1, 0, 1, 1, 0, 1, 0, 0, 0, 0, 1, 0, 0, 1, 0, 0, 0, 0, 0, 0, 0, 0, 0, 0, 1, 0, 1, 1, 0, 1, 0, 0, 0, 0, 0, 0, 0, 0, 0]\n"
     ]
    }
   ],
   "source": [
    "# Dataset creation\n",
    "\n",
    "from itertools import product\n",
    "\n",
    "x = list(product([0,1], repeat=6))\n",
    "y = []\n",
    "for el_x in x:\n",
    "    siec.add_inputs(el_x)\n",
    "    y.append(*siec.calculate())\n",
    "print(y)"
   ]
  },
  {
   "cell_type": "code",
   "execution_count": 217,
   "metadata": {},
   "outputs": [
    {
     "name": "stdout",
     "output_type": "stream",
     "text": [
      "Initial Best Fitness: 14\n",
      "Final Best Fitness: 0\n"
     ]
    }
   ],
   "source": [
    "# Optimization with genetic algorithm\n",
    "\n",
    "optimizer = GAForLogicGateNetwork(siec, 0.5, 1000, 1000)\n",
    "found_network, score  = optimizer.optimize(x, y)"
   ]
  },
  {
   "cell_type": "code",
   "execution_count": 218,
   "metadata": {},
   "outputs": [
    {
     "data": {
      "text/plain": [
       "layer 1: [operator : XOR, inputs: (5, 3), operator : AND, inputs: (0, 2), operator : OR, inputs: (1, 4)] \n",
       "layer 2: [operator : XOR, inputs: (0, 1), operator : OR, inputs: (1, 2), operator : NAND, inputs: (2, 1), operator : NAND, inputs: (0, 2)] \n",
       "layer 3: [operator : AND, inputs: (2, 0), operator : AND, inputs: (1, 0), operator : XOR, inputs: (3, 2)] \n",
       "layer 4: [operator : OR, inputs: (2, 0), operator : XOR, inputs: (0, 2)] \n",
       "layer 5: [operator : XOR, inputs: (0, 1)] \n",
       "layer 0: (1, 1, 1, 1, 1, 1) "
      ]
     },
     "execution_count": 218,
     "metadata": {},
     "output_type": "execute_result"
    }
   ],
   "source": [
    "found_network"
   ]
  },
  {
   "cell_type": "code",
   "execution_count": 219,
   "metadata": {},
   "outputs": [
    {
     "name": "stdout",
     "output_type": "stream",
     "text": [
      "[0, 0, 0, 1, 0, 0, 1, 0, 0, 0, 0, 1, 0, 0, 1, 0, 0, 1, 0, 1, 1, 0, 1, 0, 0, 1, 0, 1, 1, 0, 1, 0, 0, 0, 0, 1, 0, 0, 1, 0, 0, 0, 0, 0, 0, 0, 0, 0, 0, 1, 0, 1, 1, 0, 1, 0, 0, 0, 0, 0, 0, 0, 0, 0]\n",
      "[0, 0, 0, 1, 0, 0, 1, 0, 0, 0, 0, 1, 0, 0, 1, 0, 0, 1, 0, 1, 1, 0, 1, 0, 0, 1, 0, 1, 1, 0, 1, 0, 0, 0, 0, 1, 0, 0, 1, 0, 0, 0, 0, 0, 0, 0, 0, 0, 0, 1, 0, 1, 1, 0, 1, 0, 0, 0, 0, 0, 0, 0, 0, 0]\n"
     ]
    }
   ],
   "source": [
    "found_y = []\n",
    "for el_x in x:\n",
    "    found_network.add_inputs(el_x)\n",
    "    found_y.append(*found_network.calculate())\n",
    "print(found_y)\n",
    "print(y)"
   ]
  },
  {
   "cell_type": "markdown",
   "metadata": {},
   "source": [
    "Architektura sieci znaleziona przez algorytm genetyczny różni się od tej podanej, ale daje ona takie wyniki na zbiorze danych."
   ]
  }
 ],
 "metadata": {
  "kernelspec": {
   "display_name": "Python 3",
   "language": "python",
   "name": "python3"
  },
  "language_info": {
   "codemirror_mode": {
    "name": "ipython",
    "version": 3
   },
   "file_extension": ".py",
   "mimetype": "text/x-python",
   "name": "python",
   "nbconvert_exporter": "python",
   "pygments_lexer": "ipython3",
   "version": "3.10.4"
  }
 },
 "nbformat": 4,
 "nbformat_minor": 2
}
